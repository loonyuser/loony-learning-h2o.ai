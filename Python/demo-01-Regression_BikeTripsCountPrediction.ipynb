{
 "cells": [
  {
   "cell_type": "markdown",
   "metadata": {},
   "source": [
    "Importing h20 module and initialising the cluster"
   ]
  },
  {
   "cell_type": "markdown",
   "metadata": {},
   "source": [
    "### TODO Recording:\n",
    "\n",
    "- Click on the H2O server URL and show that H2O flow is running there"
   ]
  },
  {
   "cell_type": "code",
   "execution_count": 1,
   "metadata": {},
   "outputs": [
    {
     "name": "stdout",
     "output_type": "stream",
     "text": [
      "Checking whether there is an H2O instance running at http://localhost:54321..... not found.\n",
      "Attempting to start a local H2O server...\n",
      "  Java Version: java version \"15.0.2\" 2021-01-19; Java(TM) SE Runtime Environment (build 15.0.2+7-27); Java HotSpot(TM) 64-Bit Server VM (build 15.0.2+7-27, mixed mode, sharing)\n",
      "  Starting server from /Users/jananiravi/opt/anaconda3/lib/python3.8/site-packages/h2o/backend/bin/h2o.jar\n",
      "  Ice root: /var/folders/yd/1rlyjfk975d3bb98d7_nyt740000gn/T/tmpui_ub10r\n",
      "  JVM stdout: /var/folders/yd/1rlyjfk975d3bb98d7_nyt740000gn/T/tmpui_ub10r/h2o_jananiravi_started_from_python.out\n",
      "  JVM stderr: /var/folders/yd/1rlyjfk975d3bb98d7_nyt740000gn/T/tmpui_ub10r/h2o_jananiravi_started_from_python.err\n",
      "  Server is running at http://127.0.0.1:54321\n",
      "Connecting to H2O server at http://127.0.0.1:54321 ... successful.\n"
     ]
    },
    {
     "data": {
      "text/html": [
       "\n",
       "<style>\n",
       "\n",
       "#h2o-table-1.h2o-container {\n",
       "  overflow-x: auto;\n",
       "}\n",
       "#h2o-table-1 .h2o-table {\n",
       "  /* width: 100%; */\n",
       "  margin-top: 1em;\n",
       "  margin-bottom: 1em;\n",
       "}\n",
       "#h2o-table-1 .h2o-table caption {\n",
       "  white-space: nowrap;\n",
       "  caption-side: top;\n",
       "  text-align: left;\n",
       "  /* margin-left: 1em; */\n",
       "  margin: 0;\n",
       "  font-size: larger;\n",
       "}\n",
       "#h2o-table-1 .h2o-table thead {\n",
       "  white-space: nowrap; \n",
       "  position: sticky;\n",
       "  top: 0;\n",
       "  box-shadow: 0 -1px inset;\n",
       "}\n",
       "#h2o-table-1 .h2o-table tbody {\n",
       "  overflow: auto;\n",
       "}\n",
       "#h2o-table-1 .h2o-table th,\n",
       "#h2o-table-1 .h2o-table td {\n",
       "  text-align: right;\n",
       "  /* border: 1px solid; */\n",
       "}\n",
       "#h2o-table-1 .h2o-table tr:nth-child(even) {\n",
       "  /* background: #F5F5F5 */\n",
       "}\n",
       "\n",
       "</style>      \n",
       "<div id=\"h2o-table-1\" class=\"h2o-container\">\n",
       "  <table class=\"h2o-table\">\n",
       "    <caption></caption>\n",
       "    <thead></thead>\n",
       "    <tbody><tr><td>H2O_cluster_uptime:</td>\n",
       "<td>03 secs</td></tr>\n",
       "<tr><td>H2O_cluster_timezone:</td>\n",
       "<td>Asia/Kolkata</td></tr>\n",
       "<tr><td>H2O_data_parsing_timezone:</td>\n",
       "<td>UTC</td></tr>\n",
       "<tr><td>H2O_cluster_version:</td>\n",
       "<td>3.40.0.1</td></tr>\n",
       "<tr><td>H2O_cluster_version_age:</td>\n",
       "<td>16 days</td></tr>\n",
       "<tr><td>H2O_cluster_name:</td>\n",
       "<td>H2O_from_python_jananiravi_z0nui6</td></tr>\n",
       "<tr><td>H2O_cluster_total_nodes:</td>\n",
       "<td>1</td></tr>\n",
       "<tr><td>H2O_cluster_free_memory:</td>\n",
       "<td>2 Gb</td></tr>\n",
       "<tr><td>H2O_cluster_total_cores:</td>\n",
       "<td>4</td></tr>\n",
       "<tr><td>H2O_cluster_allowed_cores:</td>\n",
       "<td>4</td></tr>\n",
       "<tr><td>H2O_cluster_status:</td>\n",
       "<td>locked, healthy</td></tr>\n",
       "<tr><td>H2O_connection_url:</td>\n",
       "<td>http://127.0.0.1:54321</td></tr>\n",
       "<tr><td>H2O_connection_proxy:</td>\n",
       "<td>{\"http\": null, \"https\": null}</td></tr>\n",
       "<tr><td>H2O_internal_security:</td>\n",
       "<td>False</td></tr>\n",
       "<tr><td>Python_version:</td>\n",
       "<td>3.8.5 final</td></tr></tbody>\n",
       "  </table>\n",
       "</div>\n"
      ],
      "text/plain": [
       "--------------------------  ---------------------------------\n",
       "H2O_cluster_uptime:         03 secs\n",
       "H2O_cluster_timezone:       Asia/Kolkata\n",
       "H2O_data_parsing_timezone:  UTC\n",
       "H2O_cluster_version:        3.40.0.1\n",
       "H2O_cluster_version_age:    16 days\n",
       "H2O_cluster_name:           H2O_from_python_jananiravi_z0nui6\n",
       "H2O_cluster_total_nodes:    1\n",
       "H2O_cluster_free_memory:    2 Gb\n",
       "H2O_cluster_total_cores:    4\n",
       "H2O_cluster_allowed_cores:  4\n",
       "H2O_cluster_status:         locked, healthy\n",
       "H2O_connection_url:         http://127.0.0.1:54321\n",
       "H2O_connection_proxy:       {\"http\": null, \"https\": null}\n",
       "H2O_internal_security:      False\n",
       "Python_version:             3.8.5 final\n",
       "--------------------------  ---------------------------------"
      ]
     },
     "metadata": {},
     "output_type": "display_data"
    }
   ],
   "source": [
    "import h2o\n",
    "h2o.init()"
   ]
  },
  {
   "cell_type": "markdown",
   "metadata": {},
   "source": [
    "Cluster related info can be obtained this way too"
   ]
  },
  {
   "cell_type": "code",
   "execution_count": 2,
   "metadata": {},
   "outputs": [
    {
     "data": {
      "text/html": [
       "\n",
       "<style>\n",
       "\n",
       "#h2o-table-2.h2o-container {\n",
       "  overflow-x: auto;\n",
       "}\n",
       "#h2o-table-2 .h2o-table {\n",
       "  /* width: 100%; */\n",
       "  margin-top: 1em;\n",
       "  margin-bottom: 1em;\n",
       "}\n",
       "#h2o-table-2 .h2o-table caption {\n",
       "  white-space: nowrap;\n",
       "  caption-side: top;\n",
       "  text-align: left;\n",
       "  /* margin-left: 1em; */\n",
       "  margin: 0;\n",
       "  font-size: larger;\n",
       "}\n",
       "#h2o-table-2 .h2o-table thead {\n",
       "  white-space: nowrap; \n",
       "  position: sticky;\n",
       "  top: 0;\n",
       "  box-shadow: 0 -1px inset;\n",
       "}\n",
       "#h2o-table-2 .h2o-table tbody {\n",
       "  overflow: auto;\n",
       "}\n",
       "#h2o-table-2 .h2o-table th,\n",
       "#h2o-table-2 .h2o-table td {\n",
       "  text-align: right;\n",
       "  /* border: 1px solid; */\n",
       "}\n",
       "#h2o-table-2 .h2o-table tr:nth-child(even) {\n",
       "  /* background: #F5F5F5 */\n",
       "}\n",
       "\n",
       "</style>      \n",
       "<div id=\"h2o-table-2\" class=\"h2o-container\">\n",
       "  <table class=\"h2o-table\">\n",
       "    <caption></caption>\n",
       "    <thead></thead>\n",
       "    <tbody><tr><td>H2O_cluster_uptime:</td>\n",
       "<td>3 mins 11 secs</td></tr>\n",
       "<tr><td>H2O_cluster_timezone:</td>\n",
       "<td>Asia/Kolkata</td></tr>\n",
       "<tr><td>H2O_data_parsing_timezone:</td>\n",
       "<td>UTC</td></tr>\n",
       "<tr><td>H2O_cluster_version:</td>\n",
       "<td>3.40.0.1</td></tr>\n",
       "<tr><td>H2O_cluster_version_age:</td>\n",
       "<td>16 days</td></tr>\n",
       "<tr><td>H2O_cluster_name:</td>\n",
       "<td>H2O_from_python_jananiravi_z0nui6</td></tr>\n",
       "<tr><td>H2O_cluster_total_nodes:</td>\n",
       "<td>1</td></tr>\n",
       "<tr><td>H2O_cluster_free_memory:</td>\n",
       "<td>2 Gb</td></tr>\n",
       "<tr><td>H2O_cluster_total_cores:</td>\n",
       "<td>4</td></tr>\n",
       "<tr><td>H2O_cluster_allowed_cores:</td>\n",
       "<td>4</td></tr>\n",
       "<tr><td>H2O_cluster_status:</td>\n",
       "<td>locked, healthy</td></tr>\n",
       "<tr><td>H2O_connection_url:</td>\n",
       "<td>http://127.0.0.1:54321</td></tr>\n",
       "<tr><td>H2O_connection_proxy:</td>\n",
       "<td>{\"http\": null, \"https\": null}</td></tr>\n",
       "<tr><td>H2O_internal_security:</td>\n",
       "<td>False</td></tr>\n",
       "<tr><td>Python_version:</td>\n",
       "<td>3.8.5 final</td></tr></tbody>\n",
       "  </table>\n",
       "</div>\n"
      ],
      "text/plain": [
       "--------------------------  ---------------------------------\n",
       "H2O_cluster_uptime:         3 mins 11 secs\n",
       "H2O_cluster_timezone:       Asia/Kolkata\n",
       "H2O_data_parsing_timezone:  UTC\n",
       "H2O_cluster_version:        3.40.0.1\n",
       "H2O_cluster_version_age:    16 days\n",
       "H2O_cluster_name:           H2O_from_python_jananiravi_z0nui6\n",
       "H2O_cluster_total_nodes:    1\n",
       "H2O_cluster_free_memory:    2 Gb\n",
       "H2O_cluster_total_cores:    4\n",
       "H2O_cluster_allowed_cores:  4\n",
       "H2O_cluster_status:         locked, healthy\n",
       "H2O_connection_url:         http://127.0.0.1:54321\n",
       "H2O_connection_proxy:       {\"http\": null, \"https\": null}\n",
       "H2O_internal_security:      False\n",
       "Python_version:             3.8.5 final\n",
       "--------------------------  ---------------------------------"
      ]
     },
     "metadata": {},
     "output_type": "display_data"
    }
   ],
   "source": [
    "h2o.cluster().show_status()"
   ]
  },
  {
   "cell_type": "markdown",
   "metadata": {},
   "source": [
    "Importing data and displaying the top 10 rows.\n",
    "https://www.kaggle.com/imakash3011/rental-bike-sharing?select=hour.csv"
   ]
  },
  {
   "cell_type": "code",
   "execution_count": 3,
   "metadata": {},
   "outputs": [
    {
     "name": "stdout",
     "output_type": "stream",
     "text": [
      "Parse progress: |████████████████████████████████████████████████████████████████| (done) 100%\n"
     ]
    },
    {
     "data": {
      "text/html": [
       "<table class='dataframe'>\n",
       "<thead>\n",
       "<tr><th style=\"text-align: right;\">  instant</th><th>dteday             </th><th style=\"text-align: right;\">  season</th><th style=\"text-align: right;\">  yr</th><th style=\"text-align: right;\">  mnth</th><th style=\"text-align: right;\">  hr</th><th style=\"text-align: right;\">  holiday</th><th style=\"text-align: right;\">  weekday</th><th style=\"text-align: right;\">  workingday</th><th style=\"text-align: right;\">  weathersit</th><th style=\"text-align: right;\">  temp</th><th style=\"text-align: right;\">  atemp</th><th style=\"text-align: right;\">  hum</th><th style=\"text-align: right;\">  windspeed</th><th style=\"text-align: right;\">  casual</th><th style=\"text-align: right;\">  registered</th><th style=\"text-align: right;\">  cnt</th></tr>\n",
       "</thead>\n",
       "<tbody>\n",
       "<tr><td style=\"text-align: right;\">        1</td><td>2011-01-01 00:00:00</td><td style=\"text-align: right;\">       1</td><td style=\"text-align: right;\">   0</td><td style=\"text-align: right;\">     1</td><td style=\"text-align: right;\">   0</td><td style=\"text-align: right;\">        0</td><td style=\"text-align: right;\">        6</td><td style=\"text-align: right;\">           0</td><td style=\"text-align: right;\">           1</td><td style=\"text-align: right;\">  0.24</td><td style=\"text-align: right;\"> 0.2879</td><td style=\"text-align: right;\"> 0.81</td><td style=\"text-align: right;\">     0     </td><td style=\"text-align: right;\">       3</td><td style=\"text-align: right;\">          13</td><td style=\"text-align: right;\">   16</td></tr>\n",
       "<tr><td style=\"text-align: right;\">        2</td><td>2011-01-01 00:00:00</td><td style=\"text-align: right;\">       1</td><td style=\"text-align: right;\">   0</td><td style=\"text-align: right;\">     1</td><td style=\"text-align: right;\">   1</td><td style=\"text-align: right;\">        0</td><td style=\"text-align: right;\">        6</td><td style=\"text-align: right;\">           0</td><td style=\"text-align: right;\">           1</td><td style=\"text-align: right;\">  0.22</td><td style=\"text-align: right;\"> 0.2727</td><td style=\"text-align: right;\"> 0.8 </td><td style=\"text-align: right;\">     0     </td><td style=\"text-align: right;\">       8</td><td style=\"text-align: right;\">          32</td><td style=\"text-align: right;\">   40</td></tr>\n",
       "<tr><td style=\"text-align: right;\">        3</td><td>2011-01-01 00:00:00</td><td style=\"text-align: right;\">       1</td><td style=\"text-align: right;\">   0</td><td style=\"text-align: right;\">     1</td><td style=\"text-align: right;\">   2</td><td style=\"text-align: right;\">        0</td><td style=\"text-align: right;\">        6</td><td style=\"text-align: right;\">           0</td><td style=\"text-align: right;\">           1</td><td style=\"text-align: right;\">  0.22</td><td style=\"text-align: right;\"> 0.2727</td><td style=\"text-align: right;\"> 0.8 </td><td style=\"text-align: right;\">     0     </td><td style=\"text-align: right;\">       5</td><td style=\"text-align: right;\">          27</td><td style=\"text-align: right;\">   32</td></tr>\n",
       "<tr><td style=\"text-align: right;\">        4</td><td>2011-01-01 00:00:00</td><td style=\"text-align: right;\">       1</td><td style=\"text-align: right;\">   0</td><td style=\"text-align: right;\">     1</td><td style=\"text-align: right;\">   3</td><td style=\"text-align: right;\">        0</td><td style=\"text-align: right;\">        6</td><td style=\"text-align: right;\">           0</td><td style=\"text-align: right;\">           1</td><td style=\"text-align: right;\">  0.24</td><td style=\"text-align: right;\"> 0.2879</td><td style=\"text-align: right;\"> 0.75</td><td style=\"text-align: right;\">     0     </td><td style=\"text-align: right;\">       3</td><td style=\"text-align: right;\">          10</td><td style=\"text-align: right;\">   13</td></tr>\n",
       "<tr><td style=\"text-align: right;\">        5</td><td>2011-01-01 00:00:00</td><td style=\"text-align: right;\">       1</td><td style=\"text-align: right;\">   0</td><td style=\"text-align: right;\">     1</td><td style=\"text-align: right;\">   4</td><td style=\"text-align: right;\">        0</td><td style=\"text-align: right;\">        6</td><td style=\"text-align: right;\">           0</td><td style=\"text-align: right;\">           1</td><td style=\"text-align: right;\">  0.24</td><td style=\"text-align: right;\"> 0.2879</td><td style=\"text-align: right;\"> 0.75</td><td style=\"text-align: right;\">     0     </td><td style=\"text-align: right;\">       0</td><td style=\"text-align: right;\">           1</td><td style=\"text-align: right;\">    1</td></tr>\n",
       "<tr><td style=\"text-align: right;\">        6</td><td>2011-01-01 00:00:00</td><td style=\"text-align: right;\">       1</td><td style=\"text-align: right;\">   0</td><td style=\"text-align: right;\">     1</td><td style=\"text-align: right;\">   5</td><td style=\"text-align: right;\">        0</td><td style=\"text-align: right;\">        6</td><td style=\"text-align: right;\">           0</td><td style=\"text-align: right;\">           2</td><td style=\"text-align: right;\">  0.24</td><td style=\"text-align: right;\"> 0.2576</td><td style=\"text-align: right;\"> 0.75</td><td style=\"text-align: right;\">     0.0896</td><td style=\"text-align: right;\">       0</td><td style=\"text-align: right;\">           1</td><td style=\"text-align: right;\">    1</td></tr>\n",
       "<tr><td style=\"text-align: right;\">        7</td><td>2011-01-01 00:00:00</td><td style=\"text-align: right;\">       1</td><td style=\"text-align: right;\">   0</td><td style=\"text-align: right;\">     1</td><td style=\"text-align: right;\">   6</td><td style=\"text-align: right;\">        0</td><td style=\"text-align: right;\">        6</td><td style=\"text-align: right;\">           0</td><td style=\"text-align: right;\">           1</td><td style=\"text-align: right;\">  0.22</td><td style=\"text-align: right;\"> 0.2727</td><td style=\"text-align: right;\"> 0.8 </td><td style=\"text-align: right;\">     0     </td><td style=\"text-align: right;\">       2</td><td style=\"text-align: right;\">           0</td><td style=\"text-align: right;\">    2</td></tr>\n",
       "<tr><td style=\"text-align: right;\">        8</td><td>2011-01-01 00:00:00</td><td style=\"text-align: right;\">       1</td><td style=\"text-align: right;\">   0</td><td style=\"text-align: right;\">     1</td><td style=\"text-align: right;\">   7</td><td style=\"text-align: right;\">        0</td><td style=\"text-align: right;\">        6</td><td style=\"text-align: right;\">           0</td><td style=\"text-align: right;\">           1</td><td style=\"text-align: right;\">  0.2 </td><td style=\"text-align: right;\"> 0.2576</td><td style=\"text-align: right;\"> 0.86</td><td style=\"text-align: right;\">     0     </td><td style=\"text-align: right;\">       1</td><td style=\"text-align: right;\">           2</td><td style=\"text-align: right;\">    3</td></tr>\n",
       "<tr><td style=\"text-align: right;\">        9</td><td>2011-01-01 00:00:00</td><td style=\"text-align: right;\">       1</td><td style=\"text-align: right;\">   0</td><td style=\"text-align: right;\">     1</td><td style=\"text-align: right;\">   8</td><td style=\"text-align: right;\">        0</td><td style=\"text-align: right;\">        6</td><td style=\"text-align: right;\">           0</td><td style=\"text-align: right;\">           1</td><td style=\"text-align: right;\">  0.24</td><td style=\"text-align: right;\"> 0.2879</td><td style=\"text-align: right;\"> 0.75</td><td style=\"text-align: right;\">     0     </td><td style=\"text-align: right;\">       1</td><td style=\"text-align: right;\">           7</td><td style=\"text-align: right;\">    8</td></tr>\n",
       "<tr><td style=\"text-align: right;\">       10</td><td>2011-01-01 00:00:00</td><td style=\"text-align: right;\">       1</td><td style=\"text-align: right;\">   0</td><td style=\"text-align: right;\">     1</td><td style=\"text-align: right;\">   9</td><td style=\"text-align: right;\">        0</td><td style=\"text-align: right;\">        6</td><td style=\"text-align: right;\">           0</td><td style=\"text-align: right;\">           1</td><td style=\"text-align: right;\">  0.32</td><td style=\"text-align: right;\"> 0.3485</td><td style=\"text-align: right;\"> 0.76</td><td style=\"text-align: right;\">     0     </td><td style=\"text-align: right;\">       8</td><td style=\"text-align: right;\">           6</td><td style=\"text-align: right;\">   14</td></tr>\n",
       "</tbody>\n",
       "</table><pre style='font-size: smaller; margin-bottom: 1em;'>[10 rows x 17 columns]</pre>"
      ],
      "text/plain": [
       "  instant  dteday                 season    yr    mnth    hr    holiday    weekday    workingday    weathersit    temp    atemp    hum    windspeed    casual    registered    cnt\n",
       "---------  -------------------  --------  ----  ------  ----  ---------  ---------  ------------  ------------  ------  -------  -----  -----------  --------  ------------  -----\n",
       "        1  2011-01-01 00:00:00         1     0       1     0          0          6             0             1    0.24   0.2879   0.81       0              3            13     16\n",
       "        2  2011-01-01 00:00:00         1     0       1     1          0          6             0             1    0.22   0.2727   0.8        0              8            32     40\n",
       "        3  2011-01-01 00:00:00         1     0       1     2          0          6             0             1    0.22   0.2727   0.8        0              5            27     32\n",
       "        4  2011-01-01 00:00:00         1     0       1     3          0          6             0             1    0.24   0.2879   0.75       0              3            10     13\n",
       "        5  2011-01-01 00:00:00         1     0       1     4          0          6             0             1    0.24   0.2879   0.75       0              0             1      1\n",
       "        6  2011-01-01 00:00:00         1     0       1     5          0          6             0             2    0.24   0.2576   0.75       0.0896         0             1      1\n",
       "        7  2011-01-01 00:00:00         1     0       1     6          0          6             0             1    0.22   0.2727   0.8        0              2             0      2\n",
       "        8  2011-01-01 00:00:00         1     0       1     7          0          6             0             1    0.2    0.2576   0.86       0              1             2      3\n",
       "        9  2011-01-01 00:00:00         1     0       1     8          0          6             0             1    0.24   0.2879   0.75       0              1             7      8\n",
       "       10  2011-01-01 00:00:00         1     0       1     9          0          6             0             1    0.32   0.3485   0.76       0              8             6     14\n",
       "[10 rows x 17 columns]\n"
      ]
     },
     "execution_count": 3,
     "metadata": {},
     "output_type": "execute_result"
    }
   ],
   "source": [
    "bike_sharing_data = h2o.import_file('datasets/bike_sharing_data.csv')\n",
    "\n",
    "bike_sharing_data.head()"
   ]
  },
  {
   "cell_type": "markdown",
   "metadata": {},
   "source": [
    "Getting shape of dataframe"
   ]
  },
  {
   "cell_type": "code",
   "execution_count": 5,
   "metadata": {},
   "outputs": [
    {
     "data": {
      "text/plain": [
       "(17379, 17)"
      ]
     },
     "execution_count": 5,
     "metadata": {},
     "output_type": "execute_result"
    }
   ],
   "source": [
    "bike_sharing_data.shape"
   ]
  },
  {
   "cell_type": "code",
   "execution_count": 6,
   "metadata": {},
   "outputs": [
    {
     "data": {
      "text/html": [
       "<pre style='margin: 1em 0 1em 0;'>Rows:17379\n",
       "Cols:17\n",
       "</pre>"
      ],
      "text/plain": [
       "Rows:17379\n",
       "Cols:17\n"
      ]
     },
     "metadata": {},
     "output_type": "display_data"
    },
    {
     "data": {
      "text/html": [
       "<table class='dataframe'>\n",
       "<thead>\n",
       "<tr><th>       </th><th>instant          </th><th>dteday             </th><th>season            </th><th>yr                </th><th>mnth              </th><th>hr                </th><th>holiday             </th><th>weekday          </th><th>workingday        </th><th>weathersit        </th><th>temp               </th><th>atemp              </th><th>hum                </th><th>windspeed         </th><th>casual           </th><th>registered        </th><th>cnt               </th></tr>\n",
       "</thead>\n",
       "<tbody>\n",
       "<tr><td>type   </td><td>int              </td><td>time               </td><td>int               </td><td>int               </td><td>int               </td><td>int               </td><td>int                 </td><td>int              </td><td>int               </td><td>int               </td><td>real               </td><td>real               </td><td>real               </td><td>real              </td><td>int              </td><td>int               </td><td>int               </td></tr>\n",
       "<tr><td>mins   </td><td>1.0              </td><td>1293840000000.0    </td><td>1.0               </td><td>0.0               </td><td>1.0               </td><td>0.0               </td><td>0.0                 </td><td>0.0              </td><td>0.0               </td><td>1.0               </td><td>0.02               </td><td>0.0                </td><td>0.0                </td><td>0.0               </td><td>0.0              </td><td>0.0               </td><td>1.0               </td></tr>\n",
       "<tr><td>mean   </td><td>8690.0           </td><td>1325477314552.0461 </td><td>2.501639910236492 </td><td>0.5025605615973301</td><td>6.5377754761493785</td><td>11.546751826917548</td><td>0.028770355026181024</td><td>3.003682605443351</td><td>0.6827205247712756</td><td>1.425283387997008 </td><td>0.4969871684216584 </td><td>0.47577510213476026</td><td>0.6272288394038784 </td><td>0.1900976063064618</td><td>35.67621842453536</td><td>153.78686920996606</td><td>189.4630876345014 </td></tr>\n",
       "<tr><td>maxs   </td><td>17379.0          </td><td>1356912000000.0    </td><td>4.0               </td><td>1.0               </td><td>12.0              </td><td>23.0              </td><td>1.0                 </td><td>6.0              </td><td>1.0               </td><td>4.0               </td><td>1.0                </td><td>1.0                </td><td>1.0                </td><td>0.8507            </td><td>367.0            </td><td>886.0             </td><td>977.0             </td></tr>\n",
       "<tr><td>sigma  </td><td>5017.029499614288</td><td>18150225217.779854 </td><td>1.1069181394480765</td><td>0.5000078290910197</td><td>3.438775713750168 </td><td>6.914405095264493 </td><td>0.16716527638437123 </td><td>2.005771456110988</td><td>0.4654306335238829</td><td>0.6393568777542534</td><td>0.19255612124972193</td><td>0.17185021563535932</td><td>0.19292983406291514</td><td>0.1223402285727905</td><td>49.30503038705309</td><td>151.35728591258314</td><td>181.38759909186476</td></tr>\n",
       "<tr><td>zeros  </td><td>0                </td><td>0                  </td><td>0                 </td><td>8645              </td><td>0                 </td><td>726               </td><td>16879               </td><td>2502             </td><td>5514              </td><td>0                 </td><td>0                  </td><td>2                  </td><td>22                 </td><td>2180              </td><td>1581             </td><td>24                </td><td>0                 </td></tr>\n",
       "<tr><td>missing</td><td>0                </td><td>0                  </td><td>0                 </td><td>0                 </td><td>0                 </td><td>0                 </td><td>0                   </td><td>0                </td><td>0                 </td><td>0                 </td><td>0                  </td><td>0                  </td><td>0                  </td><td>0                 </td><td>0                </td><td>0                 </td><td>0                 </td></tr>\n",
       "<tr><td>0      </td><td>1.0              </td><td>2011-01-01 00:00:00</td><td>1.0               </td><td>0.0               </td><td>1.0               </td><td>0.0               </td><td>0.0                 </td><td>6.0              </td><td>0.0               </td><td>1.0               </td><td>0.24               </td><td>0.2879             </td><td>0.81               </td><td>0.0               </td><td>3.0              </td><td>13.0              </td><td>16.0              </td></tr>\n",
       "<tr><td>1      </td><td>2.0              </td><td>2011-01-01 00:00:00</td><td>1.0               </td><td>0.0               </td><td>1.0               </td><td>1.0               </td><td>0.0                 </td><td>6.0              </td><td>0.0               </td><td>1.0               </td><td>0.22               </td><td>0.2727             </td><td>0.8                </td><td>0.0               </td><td>8.0              </td><td>32.0              </td><td>40.0              </td></tr>\n",
       "<tr><td>2      </td><td>3.0              </td><td>2011-01-01 00:00:00</td><td>1.0               </td><td>0.0               </td><td>1.0               </td><td>2.0               </td><td>0.0                 </td><td>6.0              </td><td>0.0               </td><td>1.0               </td><td>0.22               </td><td>0.2727             </td><td>0.8                </td><td>0.0               </td><td>5.0              </td><td>27.0              </td><td>32.0              </td></tr>\n",
       "<tr><td>3      </td><td>4.0              </td><td>2011-01-01 00:00:00</td><td>1.0               </td><td>0.0               </td><td>1.0               </td><td>3.0               </td><td>0.0                 </td><td>6.0              </td><td>0.0               </td><td>1.0               </td><td>0.24               </td><td>0.2879             </td><td>0.75               </td><td>0.0               </td><td>3.0              </td><td>10.0              </td><td>13.0              </td></tr>\n",
       "<tr><td>4      </td><td>5.0              </td><td>2011-01-01 00:00:00</td><td>1.0               </td><td>0.0               </td><td>1.0               </td><td>4.0               </td><td>0.0                 </td><td>6.0              </td><td>0.0               </td><td>1.0               </td><td>0.24               </td><td>0.2879             </td><td>0.75               </td><td>0.0               </td><td>0.0              </td><td>1.0               </td><td>1.0               </td></tr>\n",
       "<tr><td>5      </td><td>6.0              </td><td>2011-01-01 00:00:00</td><td>1.0               </td><td>0.0               </td><td>1.0               </td><td>5.0               </td><td>0.0                 </td><td>6.0              </td><td>0.0               </td><td>2.0               </td><td>0.24               </td><td>0.2576             </td><td>0.75               </td><td>0.0896            </td><td>0.0              </td><td>1.0               </td><td>1.0               </td></tr>\n",
       "<tr><td>6      </td><td>7.0              </td><td>2011-01-01 00:00:00</td><td>1.0               </td><td>0.0               </td><td>1.0               </td><td>6.0               </td><td>0.0                 </td><td>6.0              </td><td>0.0               </td><td>1.0               </td><td>0.22               </td><td>0.2727             </td><td>0.8                </td><td>0.0               </td><td>2.0              </td><td>0.0               </td><td>2.0               </td></tr>\n",
       "<tr><td>7      </td><td>8.0              </td><td>2011-01-01 00:00:00</td><td>1.0               </td><td>0.0               </td><td>1.0               </td><td>7.0               </td><td>0.0                 </td><td>6.0              </td><td>0.0               </td><td>1.0               </td><td>0.2                </td><td>0.2576             </td><td>0.86               </td><td>0.0               </td><td>1.0              </td><td>2.0               </td><td>3.0               </td></tr>\n",
       "<tr><td>8      </td><td>9.0              </td><td>2011-01-01 00:00:00</td><td>1.0               </td><td>0.0               </td><td>1.0               </td><td>8.0               </td><td>0.0                 </td><td>6.0              </td><td>0.0               </td><td>1.0               </td><td>0.24               </td><td>0.2879             </td><td>0.75               </td><td>0.0               </td><td>1.0              </td><td>7.0               </td><td>8.0               </td></tr>\n",
       "<tr><td>9      </td><td>10.0             </td><td>2011-01-01 00:00:00</td><td>1.0               </td><td>0.0               </td><td>1.0               </td><td>9.0               </td><td>0.0                 </td><td>6.0              </td><td>0.0               </td><td>1.0               </td><td>0.32               </td><td>0.3485             </td><td>0.76               </td><td>0.0               </td><td>8.0              </td><td>6.0               </td><td>14.0              </td></tr>\n",
       "</tbody>\n",
       "</table><pre style='font-size: smaller; margin-bottom: 1em;'>[17379 rows x 17 columns]</pre>"
      ],
      "text/plain": [
       "         instant            dteday               season              yr                  mnth                hr                  holiday               weekday            workingday          weathersit          temp                 atemp                hum                  windspeed           casual             registered          cnt\n",
       "-------  -----------------  -------------------  ------------------  ------------------  ------------------  ------------------  --------------------  -----------------  ------------------  ------------------  -------------------  -------------------  -------------------  ------------------  -----------------  ------------------  ------------------\n",
       "type     int                time                 int                 int                 int                 int                 int                   int                int                 int                 real                 real                 real                 real                int                int                 int\n",
       "mins     1.0                1293840000000.0      1.0                 0.0                 1.0                 0.0                 0.0                   0.0                0.0                 1.0                 0.02                 0.0                  0.0                  0.0                 0.0                0.0                 1.0\n",
       "mean     8690.0             1325477314552.0461   2.501639910236492   0.5025605615973301  6.5377754761493785  11.546751826917548  0.028770355026181024  3.003682605443351  0.6827205247712756  1.425283387997008   0.4969871684216584   0.47577510213476026  0.6272288394038784   0.1900976063064618  35.67621842453536  153.78686920996606  189.4630876345014\n",
       "maxs     17379.0            1356912000000.0      4.0                 1.0                 12.0                23.0                1.0                   6.0                1.0                 4.0                 1.0                  1.0                  1.0                  0.8507              367.0              886.0               977.0\n",
       "sigma    5017.029499614288  18150225217.779854   1.1069181394480765  0.5000078290910197  3.438775713750168   6.914405095264493   0.16716527638437123   2.005771456110988  0.4654306335238829  0.6393568777542534  0.19255612124972193  0.17185021563535932  0.19292983406291514  0.1223402285727905  49.30503038705309  151.35728591258314  181.38759909186476\n",
       "zeros    0                  0                    0                   8645                0                   726                 16879                 2502               5514                0                   0                    2                    22                   2180                1581               24                  0\n",
       "missing  0                  0                    0                   0                   0                   0                   0                     0                  0                   0                   0                    0                    0                    0                   0                  0                   0\n",
       "0        1.0                2011-01-01 00:00:00  1.0                 0.0                 1.0                 0.0                 0.0                   6.0                0.0                 1.0                 0.24                 0.2879               0.81                 0.0                 3.0                13.0                16.0\n",
       "1        2.0                2011-01-01 00:00:00  1.0                 0.0                 1.0                 1.0                 0.0                   6.0                0.0                 1.0                 0.22                 0.2727               0.8                  0.0                 8.0                32.0                40.0\n",
       "2        3.0                2011-01-01 00:00:00  1.0                 0.0                 1.0                 2.0                 0.0                   6.0                0.0                 1.0                 0.22                 0.2727               0.8                  0.0                 5.0                27.0                32.0\n",
       "3        4.0                2011-01-01 00:00:00  1.0                 0.0                 1.0                 3.0                 0.0                   6.0                0.0                 1.0                 0.24                 0.2879               0.75                 0.0                 3.0                10.0                13.0\n",
       "4        5.0                2011-01-01 00:00:00  1.0                 0.0                 1.0                 4.0                 0.0                   6.0                0.0                 1.0                 0.24                 0.2879               0.75                 0.0                 0.0                1.0                 1.0\n",
       "5        6.0                2011-01-01 00:00:00  1.0                 0.0                 1.0                 5.0                 0.0                   6.0                0.0                 2.0                 0.24                 0.2576               0.75                 0.0896              0.0                1.0                 1.0\n",
       "6        7.0                2011-01-01 00:00:00  1.0                 0.0                 1.0                 6.0                 0.0                   6.0                0.0                 1.0                 0.22                 0.2727               0.8                  0.0                 2.0                0.0                 2.0\n",
       "7        8.0                2011-01-01 00:00:00  1.0                 0.0                 1.0                 7.0                 0.0                   6.0                0.0                 1.0                 0.2                  0.2576               0.86                 0.0                 1.0                2.0                 3.0\n",
       "8        9.0                2011-01-01 00:00:00  1.0                 0.0                 1.0                 8.0                 0.0                   6.0                0.0                 1.0                 0.24                 0.2879               0.75                 0.0                 1.0                7.0                 8.0\n",
       "9        10.0               2011-01-01 00:00:00  1.0                 0.0                 1.0                 9.0                 0.0                   6.0                0.0                 1.0                 0.32                 0.3485               0.76                 0.0                 8.0                6.0                 14.0\n",
       "[17379 rows x 17 columns]\n"
      ]
     },
     "metadata": {},
     "output_type": "display_data"
    }
   ],
   "source": [
    "bike_sharing_data.describe()"
   ]
  },
  {
   "cell_type": "code",
   "execution_count": 7,
   "metadata": {},
   "outputs": [
    {
     "name": "stdout",
     "output_type": "stream",
     "text": [
      "H2OFrame: 'bike_sharing_data.hex' \n",
      "Dimensions: 17379 obs. of 17 variables\n",
      "$ instant    :  num 1 2 3 4 5 6 7 8 9 10\n",
      "$ dteday     :  num 1293840000000 1293840000000 1293840000000 1293840000000 1293840000000 1293840000000 1293840000000 1293840000000 1293840000000 1293840000000\n",
      "$ season     :  num 1 1 1 1 1 1 1 1 1 1\n",
      "$ yr         :  num 0 0 0 0 0 0 0 0 0 0\n",
      "$ mnth       :  num 1 1 1 1 1 1 1 1 1 1\n",
      "$ hr         :  num 0 1 2 3 4 5 6 7 8 9\n",
      "$ holiday    :  num 0 0 0 0 0 0 0 0 0 0\n",
      "$ weekday    :  num 6 6 6 6 6 6 6 6 6 6\n",
      "$ workingday :  num 0 0 0 0 0 0 0 0 0 0\n",
      "$ weathersit :  num 1 1 1 1 1 2 1 1 1 1\n",
      "$ temp       :  num 0.24 0.22 0.22 0.24 0.24 0.24 0.22 0.2 0.24 0.32\n",
      "$ atemp      :  num 0.2879 0.2727 0.2727 0.2879 0.2879 0.2576 0.2727 0.2576 0.2879 0.3485\n",
      "$ hum        :  num 0.81 0.8 0.8 0.75 0.75 0.75 0.8 0.86 0.75 0.76\n",
      "$ windspeed  :  num 0.0 0.0 0.0 0.0 0.0 0.0896 0.0 0.0 0.0 0.0\n",
      "$ casual     :  num 3 8 5 3 0 0 2 1 1 8\n",
      "$ registered :  num 13 32 27 10 1 1 0 2 7 6\n",
      "$ cnt        :  num 16 40 32 13 1 1 2 3 8 14\n"
     ]
    }
   ],
   "source": [
    "bike_sharing_data.structure()"
   ]
  },
  {
   "cell_type": "code",
   "execution_count": 9,
   "metadata": {},
   "outputs": [
    {
     "data": {
      "text/html": [
       "<table class='dataframe'>\n",
       "<thead>\n",
       "<tr><th style=\"text-align: right;\">  isNA(instant)</th><th style=\"text-align: right;\">  isNA(dteday)</th><th style=\"text-align: right;\">  isNA(season)</th><th style=\"text-align: right;\">  isNA(yr)</th><th style=\"text-align: right;\">  isNA(mnth)</th><th style=\"text-align: right;\">  isNA(hr)</th><th style=\"text-align: right;\">  isNA(holiday)</th><th style=\"text-align: right;\">  isNA(weekday)</th><th style=\"text-align: right;\">  isNA(workingday)</th><th style=\"text-align: right;\">  isNA(weathersit)</th><th style=\"text-align: right;\">  isNA(temp)</th><th style=\"text-align: right;\">  isNA(atemp)</th><th style=\"text-align: right;\">  isNA(hum)</th><th style=\"text-align: right;\">  isNA(windspeed)</th><th style=\"text-align: right;\">  isNA(casual)</th><th style=\"text-align: right;\">  isNA(registered)</th><th style=\"text-align: right;\">  isNA(cnt)</th></tr>\n",
       "</thead>\n",
       "<tbody>\n",
       "<tr><td style=\"text-align: right;\">              0</td><td style=\"text-align: right;\">             0</td><td style=\"text-align: right;\">             0</td><td style=\"text-align: right;\">         0</td><td style=\"text-align: right;\">           0</td><td style=\"text-align: right;\">         0</td><td style=\"text-align: right;\">              0</td><td style=\"text-align: right;\">              0</td><td style=\"text-align: right;\">                 0</td><td style=\"text-align: right;\">                 0</td><td style=\"text-align: right;\">           0</td><td style=\"text-align: right;\">            0</td><td style=\"text-align: right;\">          0</td><td style=\"text-align: right;\">                0</td><td style=\"text-align: right;\">             0</td><td style=\"text-align: right;\">                 0</td><td style=\"text-align: right;\">          0</td></tr>\n",
       "<tr><td style=\"text-align: right;\">              0</td><td style=\"text-align: right;\">             0</td><td style=\"text-align: right;\">             0</td><td style=\"text-align: right;\">         0</td><td style=\"text-align: right;\">           0</td><td style=\"text-align: right;\">         0</td><td style=\"text-align: right;\">              0</td><td style=\"text-align: right;\">              0</td><td style=\"text-align: right;\">                 0</td><td style=\"text-align: right;\">                 0</td><td style=\"text-align: right;\">           0</td><td style=\"text-align: right;\">            0</td><td style=\"text-align: right;\">          0</td><td style=\"text-align: right;\">                0</td><td style=\"text-align: right;\">             0</td><td style=\"text-align: right;\">                 0</td><td style=\"text-align: right;\">          0</td></tr>\n",
       "<tr><td style=\"text-align: right;\">              0</td><td style=\"text-align: right;\">             0</td><td style=\"text-align: right;\">             0</td><td style=\"text-align: right;\">         0</td><td style=\"text-align: right;\">           0</td><td style=\"text-align: right;\">         0</td><td style=\"text-align: right;\">              0</td><td style=\"text-align: right;\">              0</td><td style=\"text-align: right;\">                 0</td><td style=\"text-align: right;\">                 0</td><td style=\"text-align: right;\">           0</td><td style=\"text-align: right;\">            0</td><td style=\"text-align: right;\">          0</td><td style=\"text-align: right;\">                0</td><td style=\"text-align: right;\">             0</td><td style=\"text-align: right;\">                 0</td><td style=\"text-align: right;\">          0</td></tr>\n",
       "<tr><td style=\"text-align: right;\">              0</td><td style=\"text-align: right;\">             0</td><td style=\"text-align: right;\">             0</td><td style=\"text-align: right;\">         0</td><td style=\"text-align: right;\">           0</td><td style=\"text-align: right;\">         0</td><td style=\"text-align: right;\">              0</td><td style=\"text-align: right;\">              0</td><td style=\"text-align: right;\">                 0</td><td style=\"text-align: right;\">                 0</td><td style=\"text-align: right;\">           0</td><td style=\"text-align: right;\">            0</td><td style=\"text-align: right;\">          0</td><td style=\"text-align: right;\">                0</td><td style=\"text-align: right;\">             0</td><td style=\"text-align: right;\">                 0</td><td style=\"text-align: right;\">          0</td></tr>\n",
       "<tr><td style=\"text-align: right;\">              0</td><td style=\"text-align: right;\">             0</td><td style=\"text-align: right;\">             0</td><td style=\"text-align: right;\">         0</td><td style=\"text-align: right;\">           0</td><td style=\"text-align: right;\">         0</td><td style=\"text-align: right;\">              0</td><td style=\"text-align: right;\">              0</td><td style=\"text-align: right;\">                 0</td><td style=\"text-align: right;\">                 0</td><td style=\"text-align: right;\">           0</td><td style=\"text-align: right;\">            0</td><td style=\"text-align: right;\">          0</td><td style=\"text-align: right;\">                0</td><td style=\"text-align: right;\">             0</td><td style=\"text-align: right;\">                 0</td><td style=\"text-align: right;\">          0</td></tr>\n",
       "<tr><td style=\"text-align: right;\">              0</td><td style=\"text-align: right;\">             0</td><td style=\"text-align: right;\">             0</td><td style=\"text-align: right;\">         0</td><td style=\"text-align: right;\">           0</td><td style=\"text-align: right;\">         0</td><td style=\"text-align: right;\">              0</td><td style=\"text-align: right;\">              0</td><td style=\"text-align: right;\">                 0</td><td style=\"text-align: right;\">                 0</td><td style=\"text-align: right;\">           0</td><td style=\"text-align: right;\">            0</td><td style=\"text-align: right;\">          0</td><td style=\"text-align: right;\">                0</td><td style=\"text-align: right;\">             0</td><td style=\"text-align: right;\">                 0</td><td style=\"text-align: right;\">          0</td></tr>\n",
       "<tr><td style=\"text-align: right;\">              0</td><td style=\"text-align: right;\">             0</td><td style=\"text-align: right;\">             0</td><td style=\"text-align: right;\">         0</td><td style=\"text-align: right;\">           0</td><td style=\"text-align: right;\">         0</td><td style=\"text-align: right;\">              0</td><td style=\"text-align: right;\">              0</td><td style=\"text-align: right;\">                 0</td><td style=\"text-align: right;\">                 0</td><td style=\"text-align: right;\">           0</td><td style=\"text-align: right;\">            0</td><td style=\"text-align: right;\">          0</td><td style=\"text-align: right;\">                0</td><td style=\"text-align: right;\">             0</td><td style=\"text-align: right;\">                 0</td><td style=\"text-align: right;\">          0</td></tr>\n",
       "<tr><td style=\"text-align: right;\">              0</td><td style=\"text-align: right;\">             0</td><td style=\"text-align: right;\">             0</td><td style=\"text-align: right;\">         0</td><td style=\"text-align: right;\">           0</td><td style=\"text-align: right;\">         0</td><td style=\"text-align: right;\">              0</td><td style=\"text-align: right;\">              0</td><td style=\"text-align: right;\">                 0</td><td style=\"text-align: right;\">                 0</td><td style=\"text-align: right;\">           0</td><td style=\"text-align: right;\">            0</td><td style=\"text-align: right;\">          0</td><td style=\"text-align: right;\">                0</td><td style=\"text-align: right;\">             0</td><td style=\"text-align: right;\">                 0</td><td style=\"text-align: right;\">          0</td></tr>\n",
       "<tr><td style=\"text-align: right;\">              0</td><td style=\"text-align: right;\">             0</td><td style=\"text-align: right;\">             0</td><td style=\"text-align: right;\">         0</td><td style=\"text-align: right;\">           0</td><td style=\"text-align: right;\">         0</td><td style=\"text-align: right;\">              0</td><td style=\"text-align: right;\">              0</td><td style=\"text-align: right;\">                 0</td><td style=\"text-align: right;\">                 0</td><td style=\"text-align: right;\">           0</td><td style=\"text-align: right;\">            0</td><td style=\"text-align: right;\">          0</td><td style=\"text-align: right;\">                0</td><td style=\"text-align: right;\">             0</td><td style=\"text-align: right;\">                 0</td><td style=\"text-align: right;\">          0</td></tr>\n",
       "<tr><td style=\"text-align: right;\">              0</td><td style=\"text-align: right;\">             0</td><td style=\"text-align: right;\">             0</td><td style=\"text-align: right;\">         0</td><td style=\"text-align: right;\">           0</td><td style=\"text-align: right;\">         0</td><td style=\"text-align: right;\">              0</td><td style=\"text-align: right;\">              0</td><td style=\"text-align: right;\">                 0</td><td style=\"text-align: right;\">                 0</td><td style=\"text-align: right;\">           0</td><td style=\"text-align: right;\">            0</td><td style=\"text-align: right;\">          0</td><td style=\"text-align: right;\">                0</td><td style=\"text-align: right;\">             0</td><td style=\"text-align: right;\">                 0</td><td style=\"text-align: right;\">          0</td></tr>\n",
       "</tbody>\n",
       "</table><pre style='font-size: smaller; margin-bottom: 1em;'>[17379 rows x 17 columns]</pre>"
      ],
      "text/plain": [
       "  isNA(instant)    isNA(dteday)    isNA(season)    isNA(yr)    isNA(mnth)    isNA(hr)    isNA(holiday)    isNA(weekday)    isNA(workingday)    isNA(weathersit)    isNA(temp)    isNA(atemp)    isNA(hum)    isNA(windspeed)    isNA(casual)    isNA(registered)    isNA(cnt)\n",
       "---------------  --------------  --------------  ----------  ------------  ----------  ---------------  ---------------  ------------------  ------------------  ------------  -------------  -----------  -----------------  --------------  ------------------  -----------\n",
       "              0               0               0           0             0           0                0                0                   0                   0             0              0            0                  0               0                   0            0\n",
       "              0               0               0           0             0           0                0                0                   0                   0             0              0            0                  0               0                   0            0\n",
       "              0               0               0           0             0           0                0                0                   0                   0             0              0            0                  0               0                   0            0\n",
       "              0               0               0           0             0           0                0                0                   0                   0             0              0            0                  0               0                   0            0\n",
       "              0               0               0           0             0           0                0                0                   0                   0             0              0            0                  0               0                   0            0\n",
       "              0               0               0           0             0           0                0                0                   0                   0             0              0            0                  0               0                   0            0\n",
       "              0               0               0           0             0           0                0                0                   0                   0             0              0            0                  0               0                   0            0\n",
       "              0               0               0           0             0           0                0                0                   0                   0             0              0            0                  0               0                   0            0\n",
       "              0               0               0           0             0           0                0                0                   0                   0             0              0            0                  0               0                   0            0\n",
       "              0               0               0           0             0           0                0                0                   0                   0             0              0            0                  0               0                   0            0\n",
       "[17379 rows x 17 columns]\n"
      ]
     },
     "execution_count": 9,
     "metadata": {},
     "output_type": "execute_result"
    }
   ],
   "source": [
    "bike_sharing_data.isna()"
   ]
  },
  {
   "cell_type": "markdown",
   "metadata": {},
   "source": [
    "Getting column names of dataframe"
   ]
  },
  {
   "cell_type": "code",
   "execution_count": 58,
   "metadata": {},
   "outputs": [
    {
     "data": {
      "text/plain": [
       "['instant',\n",
       " 'dteday',\n",
       " 'season',\n",
       " 'yr',\n",
       " 'mnth',\n",
       " 'hr',\n",
       " 'holiday',\n",
       " 'weekday',\n",
       " 'workingday',\n",
       " 'weathersit',\n",
       " 'temp',\n",
       " 'atemp',\n",
       " 'hum',\n",
       " 'windspeed',\n",
       " 'casual',\n",
       " 'registered',\n",
       " 'cnt']"
      ]
     },
     "execution_count": 58,
     "metadata": {},
     "output_type": "execute_result"
    }
   ],
   "source": [
    "bike_sharing_data.col_names"
   ]
  },
  {
   "cell_type": "markdown",
   "metadata": {},
   "source": [
    "Duplicate rows removal if any. In our case,there were none duplicates"
   ]
  },
  {
   "cell_type": "code",
   "execution_count": 12,
   "metadata": {},
   "outputs": [
    {
     "data": {
      "text/plain": [
       "(17379, 17)"
      ]
     },
     "execution_count": 12,
     "metadata": {},
     "output_type": "execute_result"
    }
   ],
   "source": [
    "bike_sharing_data = bike_sharing_data.drop_duplicates(columns = bike_sharing_data.columns)\n",
    "\n",
    "bike_sharing_data.shape"
   ]
  },
  {
   "cell_type": "markdown",
   "metadata": {},
   "source": [
    "Defining categorical and numeric columns"
   ]
  },
  {
   "cell_type": "code",
   "execution_count": 13,
   "metadata": {},
   "outputs": [],
   "source": [
    "categorical_cols = ['season', 'yr', 'mnth', 'hr', 'holiday', \n",
    "                    'weekday', 'workingday', 'weathersit']\n",
    "\n",
    "numeric_cols = ['temp', 'atemp', 'hum', 'windspeed', 'casual', 'registered', 'cnt']"
   ]
  },
  {
   "cell_type": "markdown",
   "metadata": {},
   "source": [
    "Converting categorical columns,which are in numeric form to categorical(factor) form"
   ]
  },
  {
   "cell_type": "code",
   "execution_count": 14,
   "metadata": {},
   "outputs": [],
   "source": [
    "for col in categorical_cols:\n",
    "    bike_sharing_data[col] = bike_sharing_data[col].asfactor()"
   ]
  },
  {
   "cell_type": "markdown",
   "metadata": {},
   "source": [
    "Checking datatype conversion on 'hr'"
   ]
  },
  {
   "cell_type": "code",
   "execution_count": 15,
   "metadata": {},
   "outputs": [
    {
     "data": {
      "text/plain": [
       "[True]"
      ]
     },
     "execution_count": 15,
     "metadata": {},
     "output_type": "execute_result"
    }
   ],
   "source": [
    "bike_sharing_data['hr'].isfactor()"
   ]
  },
  {
   "cell_type": "markdown",
   "metadata": {},
   "source": [
    "Checking levels of 'season' variable"
   ]
  },
  {
   "cell_type": "code",
   "execution_count": 16,
   "metadata": {},
   "outputs": [
    {
     "data": {
      "text/plain": [
       "['1', '2', '3', '4']"
      ]
     },
     "execution_count": 16,
     "metadata": {},
     "output_type": "execute_result"
    }
   ],
   "source": [
    "bike_sharing_data['season'].categories()"
   ]
  },
  {
   "cell_type": "markdown",
   "metadata": {},
   "source": [
    "Count of occurence for a categorical col(here-season) can be found out "
   ]
  },
  {
   "cell_type": "code",
   "execution_count": 17,
   "metadata": {},
   "outputs": [
    {
     "data": {
      "text/html": [
       "<table class='dataframe'>\n",
       "<thead>\n",
       "<tr><th style=\"text-align: right;\">  season</th><th style=\"text-align: right;\">  Count</th></tr>\n",
       "</thead>\n",
       "<tbody>\n",
       "<tr><td style=\"text-align: right;\">       1</td><td style=\"text-align: right;\">   4242</td></tr>\n",
       "<tr><td style=\"text-align: right;\">       2</td><td style=\"text-align: right;\">   4409</td></tr>\n",
       "<tr><td style=\"text-align: right;\">       3</td><td style=\"text-align: right;\">   4496</td></tr>\n",
       "<tr><td style=\"text-align: right;\">       4</td><td style=\"text-align: right;\">   4232</td></tr>\n",
       "</tbody>\n",
       "</table><pre style='font-size: smaller; margin-bottom: 1em;'>[4 rows x 2 columns]</pre>"
      ],
      "text/plain": [
       "  season    Count\n",
       "--------  -------\n",
       "       1     4242\n",
       "       2     4409\n",
       "       3     4496\n",
       "       4     4232\n",
       "[4 rows x 2 columns]\n"
      ]
     },
     "execution_count": 17,
     "metadata": {},
     "output_type": "execute_result"
    }
   ],
   "source": [
    "bike_sharing_data[['season']].table(dense = True)"
   ]
  },
  {
   "cell_type": "markdown",
   "metadata": {},
   "source": [
    "co-occurence counts between two columns can be obtained too"
   ]
  },
  {
   "cell_type": "code",
   "execution_count": 18,
   "metadata": {},
   "outputs": [
    {
     "data": {
      "text/html": [
       "<table class='dataframe'>\n",
       "<thead>\n",
       "<tr><th style=\"text-align: right;\">  season</th><th style=\"text-align: right;\">  weathersit</th><th style=\"text-align: right;\">  Counts</th></tr>\n",
       "</thead>\n",
       "<tbody>\n",
       "<tr><td style=\"text-align: right;\">       1</td><td style=\"text-align: right;\">           1</td><td style=\"text-align: right;\">    2665</td></tr>\n",
       "<tr><td style=\"text-align: right;\">       1</td><td style=\"text-align: right;\">           2</td><td style=\"text-align: right;\">    1205</td></tr>\n",
       "<tr><td style=\"text-align: right;\">       1</td><td style=\"text-align: right;\">           3</td><td style=\"text-align: right;\">     369</td></tr>\n",
       "<tr><td style=\"text-align: right;\">       1</td><td style=\"text-align: right;\">           4</td><td style=\"text-align: right;\">       3</td></tr>\n",
       "<tr><td style=\"text-align: right;\">       2</td><td style=\"text-align: right;\">           1</td><td style=\"text-align: right;\">    2859</td></tr>\n",
       "<tr><td style=\"text-align: right;\">       2</td><td style=\"text-align: right;\">           2</td><td style=\"text-align: right;\">    1144</td></tr>\n",
       "<tr><td style=\"text-align: right;\">       2</td><td style=\"text-align: right;\">           3</td><td style=\"text-align: right;\">     406</td></tr>\n",
       "<tr><td style=\"text-align: right;\">       3</td><td style=\"text-align: right;\">           1</td><td style=\"text-align: right;\">    3280</td></tr>\n",
       "<tr><td style=\"text-align: right;\">       3</td><td style=\"text-align: right;\">           2</td><td style=\"text-align: right;\">     947</td></tr>\n",
       "<tr><td style=\"text-align: right;\">       3</td><td style=\"text-align: right;\">           3</td><td style=\"text-align: right;\">     269</td></tr>\n",
       "</tbody>\n",
       "</table><pre style='font-size: smaller; margin-bottom: 1em;'>[13 rows x 3 columns]</pre>"
      ],
      "text/plain": [
       "  season    weathersit    Counts\n",
       "--------  ------------  --------\n",
       "       1             1      2665\n",
       "       1             2      1205\n",
       "       1             3       369\n",
       "       1             4         3\n",
       "       2             1      2859\n",
       "       2             2      1144\n",
       "       2             3       406\n",
       "       3             1      3280\n",
       "       3             2       947\n",
       "       3             3       269\n",
       "[13 rows x 3 columns]\n"
      ]
     },
     "execution_count": 18,
     "metadata": {},
     "output_type": "execute_result"
    }
   ],
   "source": [
    "bike_sharing_data[['season', 'weathersit']].table(dense = True)"
   ]
  },
  {
   "cell_type": "markdown",
   "metadata": {},
   "source": [
    "This is the way to check levels of all categorical columns.\n",
    "categorical_cols = ['season', 'yr', 'mnth', 'hr', 'holiday', \n",
    "                    'weekday', 'workingday', 'weathersit']\n",
    " Note that categories follow above order i.e season has 4 levels, 'yr' has 2 levels, 'mnth' has 12 levels and so on."
   ]
  },
  {
   "cell_type": "code",
   "execution_count": 19,
   "metadata": {},
   "outputs": [
    {
     "data": {
      "text/plain": [
       "[['1', '2', '3', '4'],\n",
       " ['0', '1'],\n",
       " ['1', '2', '3', '4', '5', '6', '7', '8', '9', '10', '11', '12'],\n",
       " ['0',\n",
       "  '1',\n",
       "  '2',\n",
       "  '3',\n",
       "  '4',\n",
       "  '5',\n",
       "  '6',\n",
       "  '7',\n",
       "  '8',\n",
       "  '9',\n",
       "  '10',\n",
       "  '11',\n",
       "  '12',\n",
       "  '13',\n",
       "  '14',\n",
       "  '15',\n",
       "  '16',\n",
       "  '17',\n",
       "  '18',\n",
       "  '19',\n",
       "  '20',\n",
       "  '21',\n",
       "  '22',\n",
       "  '23'],\n",
       " ['0', '1'],\n",
       " ['0', '1', '2', '3', '4', '5', '6'],\n",
       " ['0', '1'],\n",
       " ['1', '2', '3', '4']]"
      ]
     },
     "execution_count": 19,
     "metadata": {},
     "output_type": "execute_result"
    }
   ],
   "source": [
    "bike_sharing_data[categorical_cols].levels()"
   ]
  },
  {
   "cell_type": "markdown",
   "metadata": {},
   "source": [
    "Plotting a histogram of 'Target'- 'cnt'"
   ]
  },
  {
   "cell_type": "code",
   "execution_count": 20,
   "metadata": {},
   "outputs": [
    {
     "data": {
      "image/png": "[encoded data removed]",
      "text/plain": [
       "<Figure size 432x288 with 1 Axes>"
      ]
     },
     "metadata": {
      "needs_background": "light"
     },
     "output_type": "display_data"
    },
    {
     "data": {
      "text/html": [
       "<table class='dataframe'>\n",
       "<thead>\n",
       "<tr><th style=\"text-align: right;\">  breaks</th><th style=\"text-align: right;\">  counts</th><th style=\"text-align: right;\">  mids_true</th><th style=\"text-align: right;\">  mids</th><th style=\"text-align: right;\">  widths</th></tr>\n",
       "</thead>\n",
       "<tbody>\n",
       "<tr><td style=\"text-align: right;\">    98.6</td><td style=\"text-align: right;\">     nan</td><td style=\"text-align: right;\">      nan  </td><td style=\"text-align: right;\"> nan  </td><td style=\"text-align: right;\">   nan  </td></tr>\n",
       "<tr><td style=\"text-align: right;\">   196.2</td><td style=\"text-align: right;\">    6972</td><td style=\"text-align: right;\">        0.5</td><td style=\"text-align: right;\"> 147.4</td><td style=\"text-align: right;\">    97.6</td></tr>\n",
       "<tr><td style=\"text-align: right;\">   293.8</td><td style=\"text-align: right;\">    3705</td><td style=\"text-align: right;\">       49.5</td><td style=\"text-align: right;\"> 245  </td><td style=\"text-align: right;\">    97.6</td></tr>\n",
       "<tr><td style=\"text-align: right;\">   391.4</td><td style=\"text-align: right;\">    2659</td><td style=\"text-align: right;\">       98.5</td><td style=\"text-align: right;\"> 342.6</td><td style=\"text-align: right;\">    97.6</td></tr>\n",
       "<tr><td style=\"text-align: right;\">   489  </td><td style=\"text-align: right;\">    1660</td><td style=\"text-align: right;\">      147  </td><td style=\"text-align: right;\"> 440.2</td><td style=\"text-align: right;\">    97.6</td></tr>\n",
       "<tr><td style=\"text-align: right;\">   586.6</td><td style=\"text-align: right;\">     987</td><td style=\"text-align: right;\">      196  </td><td style=\"text-align: right;\"> 537.8</td><td style=\"text-align: right;\">    97.6</td></tr>\n",
       "<tr><td style=\"text-align: right;\">   684.2</td><td style=\"text-align: right;\">     663</td><td style=\"text-align: right;\">      244.5</td><td style=\"text-align: right;\"> 635.4</td><td style=\"text-align: right;\">    97.6</td></tr>\n",
       "<tr><td style=\"text-align: right;\">   781.8</td><td style=\"text-align: right;\">     369</td><td style=\"text-align: right;\">      293.5</td><td style=\"text-align: right;\"> 733  </td><td style=\"text-align: right;\">    97.6</td></tr>\n",
       "<tr><td style=\"text-align: right;\">   879.4</td><td style=\"text-align: right;\">     188</td><td style=\"text-align: right;\">      342.5</td><td style=\"text-align: right;\"> 830.6</td><td style=\"text-align: right;\">    97.6</td></tr>\n",
       "<tr><td style=\"text-align: right;\">   977  </td><td style=\"text-align: right;\">     176</td><td style=\"text-align: right;\">      391  </td><td style=\"text-align: right;\"> 928.2</td><td style=\"text-align: right;\">    97.6</td></tr>\n",
       "</tbody>\n",
       "</table><pre style='font-size: smaller; margin-bottom: 1em;'>[10 rows x 5 columns]</pre>"
      ],
      "text/plain": [
       "  breaks    counts    mids_true    mids    widths\n",
       "--------  --------  -----------  ------  --------\n",
       "    98.6       nan        nan     nan       nan\n",
       "   196.2      6972          0.5   147.4      97.6\n",
       "   293.8      3705         49.5   245        97.6\n",
       "   391.4      2659         98.5   342.6      97.6\n",
       "   489        1660        147     440.2      97.6\n",
       "   586.6       987        196     537.8      97.6\n",
       "   684.2       663        244.5   635.4      97.6\n",
       "   781.8       369        293.5   733        97.6\n",
       "   879.4       188        342.5   830.6      97.6\n",
       "   977         176        391     928.2      97.6\n",
       "[10 rows x 5 columns]\n"
      ]
     },
     "execution_count": 20,
     "metadata": {},
     "output_type": "execute_result"
    }
   ],
   "source": [
    "bike_sharing_data['cnt'].hist(breaks = 10, plot = True)"
   ]
  },
  {
   "cell_type": "markdown",
   "metadata": {},
   "source": [
    "Converting H2O Frame into Pandas dataframe for plotting with seaborn"
   ]
  },
  {
   "cell_type": "code",
   "execution_count": 23,
   "metadata": {},
   "outputs": [
    {
     "ename": "TypeError",
     "evalue": "'str' object is not callable",
     "output_type": "error",
     "traceback": [
      "\u001b[0;31m---------------------------------------------------------------------------\u001b[0m",
      "\u001b[0;31mTypeError\u001b[0m                                 Traceback (most recent call last)",
      "\u001b[0;32m<ipython-input-23-7c8435da2a6c>\u001b[0m in \u001b[0;36m<module>\u001b[0;34m\u001b[0m\n\u001b[1;32m      4\u001b[0m \u001b[0mbike_sharing_data_pd\u001b[0m \u001b[0;34m=\u001b[0m \u001b[0mbike_sharing_data\u001b[0m\u001b[0;34m.\u001b[0m\u001b[0mas_data_frame\u001b[0m\u001b[0;34m(\u001b[0m\u001b[0muse_pandas\u001b[0m \u001b[0;34m=\u001b[0m \u001b[0;32mTrue\u001b[0m\u001b[0;34m)\u001b[0m\u001b[0;34m\u001b[0m\u001b[0;34m\u001b[0m\u001b[0m\n\u001b[1;32m      5\u001b[0m \u001b[0;34m\u001b[0m\u001b[0m\n\u001b[0;32m----> 6\u001b[0;31m \u001b[0msns\u001b[0m\u001b[0;34m.\u001b[0m\u001b[0mbarplot\u001b[0m\u001b[0;34m(\u001b[0m\u001b[0mx\u001b[0m \u001b[0;34m=\u001b[0m \u001b[0mbike_sharing_data_pd\u001b[0m\u001b[0;34m[\u001b[0m\u001b[0;34m'season'\u001b[0m\u001b[0;34m]\u001b[0m\u001b[0;34m,\u001b[0m \u001b[0my\u001b[0m \u001b[0;34m=\u001b[0m \u001b[0mbike_sharing_data_pd\u001b[0m\u001b[0;34m[\u001b[0m\u001b[0;34m'cnt'\u001b[0m\u001b[0;34m]\u001b[0m\u001b[0;34m,\u001b[0m \u001b[0mestimator\u001b[0m \u001b[0;34m=\u001b[0m \u001b[0;34m'mean'\u001b[0m\u001b[0;34m)\u001b[0m\u001b[0;34m\u001b[0m\u001b[0;34m\u001b[0m\u001b[0m\n\u001b[0m",
      "\u001b[0;32m~/opt/anaconda3/lib/python3.8/site-packages/seaborn/_decorators.py\u001b[0m in \u001b[0;36minner_f\u001b[0;34m(*args, **kwargs)\u001b[0m\n\u001b[1;32m     44\u001b[0m             )\n\u001b[1;32m     45\u001b[0m         \u001b[0mkwargs\u001b[0m\u001b[0;34m.\u001b[0m\u001b[0mupdate\u001b[0m\u001b[0;34m(\u001b[0m\u001b[0;34m{\u001b[0m\u001b[0mk\u001b[0m\u001b[0;34m:\u001b[0m \u001b[0marg\u001b[0m \u001b[0;32mfor\u001b[0m \u001b[0mk\u001b[0m\u001b[0;34m,\u001b[0m \u001b[0marg\u001b[0m \u001b[0;32min\u001b[0m \u001b[0mzip\u001b[0m\u001b[0;34m(\u001b[0m\u001b[0msig\u001b[0m\u001b[0;34m.\u001b[0m\u001b[0mparameters\u001b[0m\u001b[0;34m,\u001b[0m \u001b[0margs\u001b[0m\u001b[0;34m)\u001b[0m\u001b[0;34m}\u001b[0m\u001b[0;34m)\u001b[0m\u001b[0;34m\u001b[0m\u001b[0;34m\u001b[0m\u001b[0m\n\u001b[0;32m---> 46\u001b[0;31m         \u001b[0;32mreturn\u001b[0m \u001b[0mf\u001b[0m\u001b[0;34m(\u001b[0m\u001b[0;34m**\u001b[0m\u001b[0mkwargs\u001b[0m\u001b[0;34m)\u001b[0m\u001b[0;34m\u001b[0m\u001b[0;34m\u001b[0m\u001b[0m\n\u001b[0m\u001b[1;32m     47\u001b[0m     \u001b[0;32mreturn\u001b[0m \u001b[0minner_f\u001b[0m\u001b[0;34m\u001b[0m\u001b[0;34m\u001b[0m\u001b[0m\n\u001b[1;32m     48\u001b[0m \u001b[0;34m\u001b[0m\u001b[0m\n",
      "\u001b[0;32m~/opt/anaconda3/lib/python3.8/site-packages/seaborn/categorical.py\u001b[0m in \u001b[0;36mbarplot\u001b[0;34m(x, y, hue, data, order, hue_order, estimator, ci, n_boot, units, seed, orient, color, palette, saturation, errcolor, errwidth, capsize, dodge, ax, **kwargs)\u001b[0m\n\u001b[1;32m   3180\u001b[0m ):\n\u001b[1;32m   3181\u001b[0m \u001b[0;34m\u001b[0m\u001b[0m\n\u001b[0;32m-> 3182\u001b[0;31m     plotter = _BarPlotter(x, y, hue, data, order, hue_order,\n\u001b[0m\u001b[1;32m   3183\u001b[0m                           \u001b[0mestimator\u001b[0m\u001b[0;34m,\u001b[0m \u001b[0mci\u001b[0m\u001b[0;34m,\u001b[0m \u001b[0mn_boot\u001b[0m\u001b[0;34m,\u001b[0m \u001b[0munits\u001b[0m\u001b[0;34m,\u001b[0m \u001b[0mseed\u001b[0m\u001b[0;34m,\u001b[0m\u001b[0;34m\u001b[0m\u001b[0;34m\u001b[0m\u001b[0m\n\u001b[1;32m   3184\u001b[0m                           \u001b[0morient\u001b[0m\u001b[0;34m,\u001b[0m \u001b[0mcolor\u001b[0m\u001b[0;34m,\u001b[0m \u001b[0mpalette\u001b[0m\u001b[0;34m,\u001b[0m \u001b[0msaturation\u001b[0m\u001b[0;34m,\u001b[0m\u001b[0;34m\u001b[0m\u001b[0;34m\u001b[0m\u001b[0m\n",
      "\u001b[0;32m~/opt/anaconda3/lib/python3.8/site-packages/seaborn/categorical.py\u001b[0m in \u001b[0;36m__init__\u001b[0;34m(self, x, y, hue, data, order, hue_order, estimator, ci, n_boot, units, seed, orient, color, palette, saturation, errcolor, errwidth, capsize, dodge)\u001b[0m\n\u001b[1;32m   1585\u001b[0m                                  order, hue_order, units)\n\u001b[1;32m   1586\u001b[0m         \u001b[0mself\u001b[0m\u001b[0;34m.\u001b[0m\u001b[0mestablish_colors\u001b[0m\u001b[0;34m(\u001b[0m\u001b[0mcolor\u001b[0m\u001b[0;34m,\u001b[0m \u001b[0mpalette\u001b[0m\u001b[0;34m,\u001b[0m \u001b[0msaturation\u001b[0m\u001b[0;34m)\u001b[0m\u001b[0;34m\u001b[0m\u001b[0;34m\u001b[0m\u001b[0m\n\u001b[0;32m-> 1587\u001b[0;31m         \u001b[0mself\u001b[0m\u001b[0;34m.\u001b[0m\u001b[0mestimate_statistic\u001b[0m\u001b[0;34m(\u001b[0m\u001b[0mestimator\u001b[0m\u001b[0;34m,\u001b[0m \u001b[0mci\u001b[0m\u001b[0;34m,\u001b[0m \u001b[0mn_boot\u001b[0m\u001b[0;34m,\u001b[0m \u001b[0mseed\u001b[0m\u001b[0;34m)\u001b[0m\u001b[0;34m\u001b[0m\u001b[0;34m\u001b[0m\u001b[0m\n\u001b[0m\u001b[1;32m   1588\u001b[0m \u001b[0;34m\u001b[0m\u001b[0m\n\u001b[1;32m   1589\u001b[0m         \u001b[0mself\u001b[0m\u001b[0;34m.\u001b[0m\u001b[0mdodge\u001b[0m \u001b[0;34m=\u001b[0m \u001b[0mdodge\u001b[0m\u001b[0;34m\u001b[0m\u001b[0;34m\u001b[0m\u001b[0m\n",
      "\u001b[0;32m~/opt/anaconda3/lib/python3.8/site-packages/seaborn/categorical.py\u001b[0m in \u001b[0;36mestimate_statistic\u001b[0;34m(self, estimator, ci, n_boot, seed)\u001b[0m\n\u001b[1;32m   1467\u001b[0m                     \u001b[0mstatistic\u001b[0m\u001b[0;34m.\u001b[0m\u001b[0mappend\u001b[0m\u001b[0;34m(\u001b[0m\u001b[0mnp\u001b[0m\u001b[0;34m.\u001b[0m\u001b[0mnan\u001b[0m\u001b[0;34m)\u001b[0m\u001b[0;34m\u001b[0m\u001b[0;34m\u001b[0m\u001b[0m\n\u001b[1;32m   1468\u001b[0m                 \u001b[0;32melse\u001b[0m\u001b[0;34m:\u001b[0m\u001b[0;34m\u001b[0m\u001b[0;34m\u001b[0m\u001b[0m\n\u001b[0;32m-> 1469\u001b[0;31m                     \u001b[0mstatistic\u001b[0m\u001b[0;34m.\u001b[0m\u001b[0mappend\u001b[0m\u001b[0;34m(\u001b[0m\u001b[0mestimator\u001b[0m\u001b[0;34m(\u001b[0m\u001b[0mstat_data\u001b[0m\u001b[0;34m)\u001b[0m\u001b[0;34m)\u001b[0m\u001b[0;34m\u001b[0m\u001b[0;34m\u001b[0m\u001b[0m\n\u001b[0m\u001b[1;32m   1470\u001b[0m \u001b[0;34m\u001b[0m\u001b[0m\n\u001b[1;32m   1471\u001b[0m                 \u001b[0;31m# Get a confidence interval for this estimate\u001b[0m\u001b[0;34m\u001b[0m\u001b[0;34m\u001b[0m\u001b[0;34m\u001b[0m\u001b[0m\n",
      "\u001b[0;31mTypeError\u001b[0m: 'str' object is not callable"
     ]
    }
   ],
   "source": [
    "import seaborn as sns\n",
    "import matplotlib.pyplot as plt\n",
    "\n",
    "bike_sharing_data_pd = bike_sharing_data.as_data_frame(use_pandas = True)\n",
    "\n",
    "sns.barplot(x = bike_sharing_data_pd['season'], y = bike_sharing_data_pd['cnt'], estimator = 'mean')"
   ]
  },
  {
   "cell_type": "markdown",
   "metadata": {},
   "source": [
    "Correlation matrix obtained for numeric columns. As sum of casual and registered is equal to 'cnt', individually high correlation can be observed. We would drop both columns for model training.Also,atemp would be removed as it is showing high correlation with 'temp'."
   ]
  },
  {
   "cell_type": "code",
   "execution_count": 24,
   "metadata": {},
   "outputs": [
    {
     "data": {
      "text/html": [
       "<table class='dataframe'>\n",
       "<thead>\n",
       "<tr><th style=\"text-align: right;\">      temp</th><th style=\"text-align: right;\">     atemp</th><th style=\"text-align: right;\">       hum</th><th style=\"text-align: right;\">  windspeed</th><th style=\"text-align: right;\">    casual</th><th style=\"text-align: right;\">  registered</th><th style=\"text-align: right;\">       cnt</th></tr>\n",
       "</thead>\n",
       "<tbody>\n",
       "<tr><td style=\"text-align: right;\"> 1        </td><td style=\"text-align: right;\"> 0.987672 </td><td style=\"text-align: right;\">-0.0698814</td><td style=\"text-align: right;\"> -0.0231253</td><td style=\"text-align: right;\"> 0.459616 </td><td style=\"text-align: right;\">   0.335361 </td><td style=\"text-align: right;\"> 0.404772 </td></tr>\n",
       "<tr><td style=\"text-align: right;\"> 0.987672 </td><td style=\"text-align: right;\"> 1        </td><td style=\"text-align: right;\">-0.0519177</td><td style=\"text-align: right;\"> -0.062336 </td><td style=\"text-align: right;\"> 0.45408  </td><td style=\"text-align: right;\">   0.332559 </td><td style=\"text-align: right;\"> 0.400929 </td></tr>\n",
       "<tr><td style=\"text-align: right;\">-0.0698814</td><td style=\"text-align: right;\">-0.0519177</td><td style=\"text-align: right;\"> 1        </td><td style=\"text-align: right;\"> -0.290105 </td><td style=\"text-align: right;\">-0.347028 </td><td style=\"text-align: right;\">  -0.273933 </td><td style=\"text-align: right;\">-0.322911 </td></tr>\n",
       "<tr><td style=\"text-align: right;\">-0.0231253</td><td style=\"text-align: right;\">-0.062336 </td><td style=\"text-align: right;\">-0.290105 </td><td style=\"text-align: right;\">  1        </td><td style=\"text-align: right;\"> 0.0902868</td><td style=\"text-align: right;\">   0.0823208</td><td style=\"text-align: right;\"> 0.0932338</td></tr>\n",
       "<tr><td style=\"text-align: right;\"> 0.459616 </td><td style=\"text-align: right;\"> 0.45408  </td><td style=\"text-align: right;\">-0.347028 </td><td style=\"text-align: right;\">  0.0902868</td><td style=\"text-align: right;\"> 1        </td><td style=\"text-align: right;\">   0.506618 </td><td style=\"text-align: right;\"> 0.694564 </td></tr>\n",
       "<tr><td style=\"text-align: right;\"> 0.335361 </td><td style=\"text-align: right;\"> 0.332559 </td><td style=\"text-align: right;\">-0.273933 </td><td style=\"text-align: right;\">  0.0823208</td><td style=\"text-align: right;\"> 0.506618 </td><td style=\"text-align: right;\">   1        </td><td style=\"text-align: right;\"> 0.972151 </td></tr>\n",
       "<tr><td style=\"text-align: right;\"> 0.404772 </td><td style=\"text-align: right;\"> 0.400929 </td><td style=\"text-align: right;\">-0.322911 </td><td style=\"text-align: right;\">  0.0932338</td><td style=\"text-align: right;\"> 0.694564 </td><td style=\"text-align: right;\">   0.972151 </td><td style=\"text-align: right;\"> 1        </td></tr>\n",
       "</tbody>\n",
       "</table><pre style='font-size: smaller; margin-bottom: 1em;'>[7 rows x 7 columns]</pre>"
      ],
      "text/plain": [
       "      temp       atemp         hum    windspeed      casual    registered         cnt\n",
       "----------  ----------  ----------  -----------  ----------  ------------  ----------\n",
       " 1           0.987672   -0.0698814   -0.0231253   0.459616      0.335361    0.404772\n",
       " 0.987672    1          -0.0519177   -0.062336    0.45408       0.332559    0.400929\n",
       "-0.0698814  -0.0519177   1           -0.290105   -0.347028     -0.273933   -0.322911\n",
       "-0.0231253  -0.062336   -0.290105     1           0.0902868     0.0823208   0.0932338\n",
       " 0.459616    0.45408    -0.347028     0.0902868   1             0.506618    0.694564\n",
       " 0.335361    0.332559   -0.273933     0.0823208   0.506618      1           0.972151\n",
       " 0.404772    0.400929   -0.322911     0.0932338   0.694564      0.972151    1\n",
       "[7 rows x 7 columns]\n"
      ]
     },
     "execution_count": 24,
     "metadata": {},
     "output_type": "execute_result"
    }
   ],
   "source": [
    "bike_sharing_data[numeric_cols].cor()"
   ]
  },
  {
   "cell_type": "code",
   "execution_count": 25,
   "metadata": {},
   "outputs": [
    {
     "data": {
      "text/plain": [
       "<AxesSubplot:xlabel='temp', ylabel='cnt'>"
      ]
     },
     "execution_count": 25,
     "metadata": {},
     "output_type": "execute_result"
    },
    {
     "data": {
      "image/png": "[encoded data removed]",
      "text/plain": [
       "<Figure size 432x288 with 1 Axes>"
      ]
     },
     "metadata": {
      "needs_background": "light"
     },
     "output_type": "display_data"
    }
   ],
   "source": [
    "sns.regplot(x = 'temp', y = 'cnt', data = bike_sharing_data_pd)"
   ]
  },
  {
   "cell_type": "code",
   "execution_count": 26,
   "metadata": {},
   "outputs": [
    {
     "data": {
      "text/plain": [
       "<AxesSubplot:xlabel='hum', ylabel='cnt'>"
      ]
     },
     "execution_count": 26,
     "metadata": {},
     "output_type": "execute_result"
    },
    {
     "data": {
      "image/png": "[encoded data removed]",
      "text/plain": [
       "<Figure size 432x288 with 1 Axes>"
      ]
     },
     "metadata": {
      "needs_background": "light"
     },
     "output_type": "display_data"
    }
   ],
   "source": [
    "sns.regplot(x = 'hum', y = 'cnt', data = bike_sharing_data_pd)"
   ]
  },
  {
   "cell_type": "markdown",
   "metadata": {},
   "source": [
    "Data is split into  training and testing sets"
   ]
  },
  {
   "cell_type": "code",
   "execution_count": 37,
   "metadata": {},
   "outputs": [],
   "source": [
    "bike_sharing_data_train, bike_sharing_data_test = bike_sharing_data.split_frame(ratios = [0.7], seed = 1234)\n",
    "\n",
    "bike_sharing_data_val, bike_sharing_data_test = bike_sharing_data_test.split_frame(ratios = [0.7], seed = 1234)"
   ]
  },
  {
   "cell_type": "markdown",
   "metadata": {},
   "source": [
    "Predictors and response vars are defined"
   ]
  },
  {
   "cell_type": "code",
   "execution_count": 38,
   "metadata": {},
   "outputs": [],
   "source": [
    "predictors = [\n",
    "    'season', \n",
    "    'yr', \n",
    "    'mnth', \n",
    "    'hr', \n",
    "    'holiday', \n",
    "    'weekday', \n",
    "    'workingday', \n",
    "    'weathersit', \n",
    "    'temp', \n",
    "    'hum', \n",
    "    'windspeed',\n",
    " ]\n",
    "\n",
    "response = 'cnt'"
   ]
  },
  {
   "cell_type": "markdown",
   "metadata": {},
   "source": [
    "Fitting a linear regression model with training data"
   ]
  },
  {
   "cell_type": "code",
   "execution_count": 39,
   "metadata": {
    "scrolled": false
   },
   "outputs": [
    {
     "name": "stdout",
     "output_type": "stream",
     "text": [
      "glm Model Build progress: |██████████████████████████████████████████████████████| (done) 100%\n"
     ]
    },
    {
     "data": {
      "text/html": [
       "<pre style='margin: 1em 0 1em 0;'>Model Details\n",
       "=============\n",
       "H2OGeneralizedLinearEstimator : Generalized Linear Modeling\n",
       "Model Key: GLM_model_python_1677318363097_2\n",
       "</pre>\n",
       "<div style='margin: 1em 0 1em 0;'>\n",
       "<style>\n",
       "\n",
       "#h2o-table-6.h2o-container {\n",
       "  overflow-x: auto;\n",
       "}\n",
       "#h2o-table-6 .h2o-table {\n",
       "  /* width: 100%; */\n",
       "  margin-top: 1em;\n",
       "  margin-bottom: 1em;\n",
       "}\n",
       "#h2o-table-6 .h2o-table caption {\n",
       "  white-space: nowrap;\n",
       "  caption-side: top;\n",
       "  text-align: left;\n",
       "  /* margin-left: 1em; */\n",
       "  margin: 0;\n",
       "  font-size: larger;\n",
       "}\n",
       "#h2o-table-6 .h2o-table thead {\n",
       "  white-space: nowrap; \n",
       "  position: sticky;\n",
       "  top: 0;\n",
       "  box-shadow: 0 -1px inset;\n",
       "}\n",
       "#h2o-table-6 .h2o-table tbody {\n",
       "  overflow: auto;\n",
       "}\n",
       "#h2o-table-6 .h2o-table th,\n",
       "#h2o-table-6 .h2o-table td {\n",
       "  text-align: right;\n",
       "  /* border: 1px solid; */\n",
       "}\n",
       "#h2o-table-6 .h2o-table tr:nth-child(even) {\n",
       "  /* background: #F5F5F5 */\n",
       "}\n",
       "\n",
       "</style>      \n",
       "<div id=\"h2o-table-6\" class=\"h2o-container\">\n",
       "  <table class=\"h2o-table\">\n",
       "    <caption>GLM Model: summary</caption>\n",
       "    <thead><tr><th></th>\n",
       "<th>family</th>\n",
       "<th>link</th>\n",
       "<th>regularization</th>\n",
       "<th>number_of_predictors_total</th>\n",
       "<th>number_of_active_predictors</th>\n",
       "<th>number_of_iterations</th>\n",
       "<th>training_frame</th></tr></thead>\n",
       "    <tbody><tr><td></td>\n",
       "<td>gaussian</td>\n",
       "<td>identity</td>\n",
       "<td>Elastic Net (alpha = 0.5, lambda = 0.1451 )</td>\n",
       "<td>60</td>\n",
       "<td>55</td>\n",
       "<td>1</td>\n",
       "<td>py_51_sid_a0f1</td></tr></tbody>\n",
       "  </table>\n",
       "</div>\n",
       "</div>\n",
       "<div style='margin: 1em 0 1em 0;'><pre style='margin: 1em 0 1em 0;'>ModelMetricsRegressionGLM: glm\n",
       "** Reported on train data. **\n",
       "\n",
       "MSE: 15766.015274142666\n",
       "RMSE: 125.56279414756055\n",
       "MAE: 93.16280486787988\n",
       "RMSLE: NaN\n",
       "Mean Residual Deviance: 15766.015274142666\n",
       "R^2: 0.5229676843749952\n",
       "Null degrees of freedom: 12221\n",
       "Residual degrees of freedom: 12166\n",
       "Null deviance: 403939591.44698083\n",
       "Residual deviance: 192692238.68057168\n",
       "AIC: 152931.6430081532</pre></div>\n",
       "<div style='margin: 1em 0 1em 0;'><pre style='margin: 1em 0 1em 0;'>ModelMetricsRegressionGLM: glm\n",
       "** Reported on validation data. **\n",
       "\n",
       "MSE: 15512.464177183587\n",
       "RMSE: 124.54904326081187\n",
       "MAE: 91.95574234693764\n",
       "RMSLE: NaN\n",
       "Mean Residual Deviance: 15512.464177183587\n",
       "R^2: 0.5349515678945747\n",
       "Null degrees of freedom: 3618\n",
       "Residual degrees of freedom: 3563\n",
       "Null deviance: 120720405.77764492\n",
       "Residual deviance: 56139607.8572274\n",
       "AIC: 45305.452519422746</pre></div>\n",
       "<div style='margin: 1em 0 1em 0;'>\n",
       "<style>\n",
       "\n",
       "#h2o-table-7.h2o-container {\n",
       "  overflow-x: auto;\n",
       "}\n",
       "#h2o-table-7 .h2o-table {\n",
       "  /* width: 100%; */\n",
       "  margin-top: 1em;\n",
       "  margin-bottom: 1em;\n",
       "}\n",
       "#h2o-table-7 .h2o-table caption {\n",
       "  white-space: nowrap;\n",
       "  caption-side: top;\n",
       "  text-align: left;\n",
       "  /* margin-left: 1em; */\n",
       "  margin: 0;\n",
       "  font-size: larger;\n",
       "}\n",
       "#h2o-table-7 .h2o-table thead {\n",
       "  white-space: nowrap; \n",
       "  position: sticky;\n",
       "  top: 0;\n",
       "  box-shadow: 0 -1px inset;\n",
       "}\n",
       "#h2o-table-7 .h2o-table tbody {\n",
       "  overflow: auto;\n",
       "}\n",
       "#h2o-table-7 .h2o-table th,\n",
       "#h2o-table-7 .h2o-table td {\n",
       "  text-align: right;\n",
       "  /* border: 1px solid; */\n",
       "}\n",
       "#h2o-table-7 .h2o-table tr:nth-child(even) {\n",
       "  /* background: #F5F5F5 */\n",
       "}\n",
       "\n",
       "</style>      \n",
       "<div id=\"h2o-table-7\" class=\"h2o-container\">\n",
       "  <table class=\"h2o-table\">\n",
       "    <caption>Scoring History: </caption>\n",
       "    <thead><tr><th></th>\n",
       "<th>timestamp</th>\n",
       "<th>duration</th>\n",
       "<th>iterations</th>\n",
       "<th>negative_log_likelihood</th>\n",
       "<th>objective</th>\n",
       "<th>training_rmse</th>\n",
       "<th>training_deviance</th>\n",
       "<th>training_mae</th>\n",
       "<th>training_r2</th>\n",
       "<th>validation_rmse</th>\n",
       "<th>validation_deviance</th>\n",
       "<th>validation_mae</th>\n",
       "<th>validation_r2</th></tr></thead>\n",
       "    <tbody><tr><td></td>\n",
       "<td>2023-02-25 15:30:22</td>\n",
       "<td> 0.000 sec</td>\n",
       "<td>0</td>\n",
       "<td>403939591.4469808</td>\n",
       "<td>33050.2038494</td>\n",
       "<td></td>\n",
       "<td></td>\n",
       "<td></td>\n",
       "<td></td>\n",
       "<td></td>\n",
       "<td></td>\n",
       "<td></td>\n",
       "<td></td></tr>\n",
       "<tr><td></td>\n",
       "<td>2023-02-25 15:30:22</td>\n",
       "<td> 0.059 sec</td>\n",
       "<td>1</td>\n",
       "<td></td>\n",
       "<td></td>\n",
       "<td>125.5627941</td>\n",
       "<td>15766.0152741</td>\n",
       "<td>93.1628049</td>\n",
       "<td>0.5229677</td>\n",
       "<td>124.5490433</td>\n",
       "<td>15512.4641772</td>\n",
       "<td>91.9557423</td>\n",
       "<td>0.5349516</td></tr></tbody>\n",
       "  </table>\n",
       "</div>\n",
       "</div>\n",
       "<div style='margin: 1em 0 1em 0;'>\n",
       "<style>\n",
       "\n",
       "#h2o-table-8.h2o-container {\n",
       "  overflow-x: auto;\n",
       "}\n",
       "#h2o-table-8 .h2o-table {\n",
       "  /* width: 100%; */\n",
       "  margin-top: 1em;\n",
       "  margin-bottom: 1em;\n",
       "}\n",
       "#h2o-table-8 .h2o-table caption {\n",
       "  white-space: nowrap;\n",
       "  caption-side: top;\n",
       "  text-align: left;\n",
       "  /* margin-left: 1em; */\n",
       "  margin: 0;\n",
       "  font-size: larger;\n",
       "}\n",
       "#h2o-table-8 .h2o-table thead {\n",
       "  white-space: nowrap; \n",
       "  position: sticky;\n",
       "  top: 0;\n",
       "  box-shadow: 0 -1px inset;\n",
       "}\n",
       "#h2o-table-8 .h2o-table tbody {\n",
       "  overflow: auto;\n",
       "}\n",
       "#h2o-table-8 .h2o-table th,\n",
       "#h2o-table-8 .h2o-table td {\n",
       "  text-align: right;\n",
       "  /* border: 1px solid; */\n",
       "}\n",
       "#h2o-table-8 .h2o-table tr:nth-child(even) {\n",
       "  /* background: #F5F5F5 */\n",
       "}\n",
       "\n",
       "</style>      \n",
       "<div id=\"h2o-table-8\" class=\"h2o-container\">\n",
       "  <table class=\"h2o-table\">\n",
       "    <caption>Variable Importances: </caption>\n",
       "    <thead><tr><th>variable</th>\n",
       "<th>relative_importance</th>\n",
       "<th>scaled_importance</th>\n",
       "<th>percentage</th></tr></thead>\n",
       "    <tbody><tr><td>hr.17</td>\n",
       "<td>80.5116653</td>\n",
       "<td>1.0</td>\n",
       "<td>0.0739989</td></tr>\n",
       "<tr><td>hr.8</td>\n",
       "<td>79.3126373</td>\n",
       "<td>0.9851074</td>\n",
       "<td>0.0728968</td></tr>\n",
       "<tr><td>hr.18</td>\n",
       "<td>75.6718445</td>\n",
       "<td>0.9398867</td>\n",
       "<td>0.0695505</td></tr>\n",
       "<tr><td>temp</td>\n",
       "<td>65.6142578</td>\n",
       "<td>0.8149659</td>\n",
       "<td>0.0603065</td></tr>\n",
       "<tr><td>hr.4</td>\n",
       "<td>50.5435753</td>\n",
       "<td>0.6277795</td>\n",
       "<td>0.0464550</td></tr>\n",
       "<tr><td>hr.3</td>\n",
       "<td>49.7485695</td>\n",
       "<td>0.6179051</td>\n",
       "<td>0.0457243</td></tr>\n",
       "<tr><td>hr.2</td>\n",
       "<td>47.4922218</td>\n",
       "<td>0.5898800</td>\n",
       "<td>0.0436504</td></tr>\n",
       "<tr><td>hr.1</td>\n",
       "<td>47.1558914</td>\n",
       "<td>0.5857026</td>\n",
       "<td>0.0433413</td></tr>\n",
       "<tr><td>hr.5</td>\n",
       "<td>45.7054977</td>\n",
       "<td>0.5676879</td>\n",
       "<td>0.0420083</td></tr>\n",
       "<tr><td>hum</td>\n",
       "<td>39.1094513</td>\n",
       "<td>0.4857613</td>\n",
       "<td>0.0359458</td></tr>\n",
       "<tr><td>---</td>\n",
       "<td>---</td>\n",
       "<td>---</td>\n",
       "<td>---</td></tr>\n",
       "<tr><td>weekday.3</td>\n",
       "<td>0.8849638</td>\n",
       "<td>0.0109917</td>\n",
       "<td>0.0008134</td></tr>\n",
       "<tr><td>mnth.4</td>\n",
       "<td>0.4284004</td>\n",
       "<td>0.0053210</td>\n",
       "<td>0.0003937</td></tr>\n",
       "<tr><td>mnth.8</td>\n",
       "<td>0.2583317</td>\n",
       "<td>0.0032086</td>\n",
       "<td>0.0002374</td></tr>\n",
       "<tr><td>hr.11</td>\n",
       "<td>0.1917908</td>\n",
       "<td>0.0023821</td>\n",
       "<td>0.0001763</td></tr>\n",
       "<tr><td>weekday.2</td>\n",
       "<td>0.0062743</td>\n",
       "<td>0.0000779</td>\n",
       "<td>0.0000058</td></tr>\n",
       "<tr><td>hr.14</td>\n",
       "<td>0.0</td>\n",
       "<td>0.0</td>\n",
       "<td>0.0</td></tr>\n",
       "<tr><td>weekday.4</td>\n",
       "<td>0.0</td>\n",
       "<td>0.0</td>\n",
       "<td>0.0</td></tr>\n",
       "<tr><td>weekday.5</td>\n",
       "<td>0.0</td>\n",
       "<td>0.0</td>\n",
       "<td>0.0</td></tr>\n",
       "<tr><td>season.1</td>\n",
       "<td>0.0</td>\n",
       "<td>0.0</td>\n",
       "<td>0.0</td></tr>\n",
       "<tr><td>weathersit.4</td>\n",
       "<td>0.0</td>\n",
       "<td>0.0</td>\n",
       "<td>0.0</td></tr></tbody>\n",
       "  </table>\n",
       "</div>\n",
       "<pre style='font-size: smaller; margin-bottom: 1em;'>[60 rows x 4 columns]</pre></div><pre style=\"font-size: smaller; margin: 1em 0 0 0;\">\n",
       "\n",
       "[tips]\n",
       "Use `model.explain()` to inspect the model.\n",
       "--\n",
       "Use `h2o.display.toggle_user_tips()` to switch on/off this section.</pre>"
      ],
      "text/plain": [
       "Model Details\n",
       "=============\n",
       "H2OGeneralizedLinearEstimator : Generalized Linear Modeling\n",
       "Model Key: GLM_model_python_1677318363097_2\n",
       "\n",
       "\n",
       "GLM Model: summary\n",
       "    family    link      regularization                               number_of_predictors_total    number_of_active_predictors    number_of_iterations    training_frame\n",
       "--  --------  --------  -------------------------------------------  ----------------------------  -----------------------------  ----------------------  ----------------\n",
       "    gaussian  identity  Elastic Net (alpha = 0.5, lambda = 0.1451 )  60                            55                             1                       py_51_sid_a0f1\n",
       "\n",
       "ModelMetricsRegressionGLM: glm\n",
       "** Reported on train data. **\n",
       "\n",
       "MSE: 15766.015274142666\n",
       "RMSE: 125.56279414756055\n",
       "MAE: 93.16280486787988\n",
       "RMSLE: NaN\n",
       "Mean Residual Deviance: 15766.015274142666\n",
       "R^2: 0.5229676843749952\n",
       "Null degrees of freedom: 12221\n",
       "Residual degrees of freedom: 12166\n",
       "Null deviance: 403939591.44698083\n",
       "Residual deviance: 192692238.68057168\n",
       "AIC: 152931.6430081532\n",
       "\n",
       "ModelMetricsRegressionGLM: glm\n",
       "** Reported on validation data. **\n",
       "\n",
       "MSE: 15512.464177183587\n",
       "RMSE: 124.54904326081187\n",
       "MAE: 91.95574234693764\n",
       "RMSLE: NaN\n",
       "Mean Residual Deviance: 15512.464177183587\n",
       "R^2: 0.5349515678945747\n",
       "Null degrees of freedom: 3618\n",
       "Residual degrees of freedom: 3563\n",
       "Null deviance: 120720405.77764492\n",
       "Residual deviance: 56139607.8572274\n",
       "AIC: 45305.452519422746\n",
       "\n",
       "Scoring History: \n",
       "    timestamp            duration    iterations    negative_log_likelihood    objective           training_rmse       training_deviance    training_mae       training_r2         validation_rmse     validation_deviance    validation_mae     validation_r2\n",
       "--  -------------------  ----------  ------------  -------------------------  ------------------  ------------------  -------------------  -----------------  ------------------  ------------------  ---------------------  -----------------  ------------------\n",
       "    2023-02-25 15:30:22  0.000 sec   0             403939591.44698083         33050.203849368416\n",
       "    2023-02-25 15:30:22  0.059 sec   1                                                            125.56279414756055  15766.015274142666   93.16280486787988  0.5229676843749952  124.54904326081187  15512.464177183587     91.95574234693764  0.5349515678945747\n",
       "\n",
       "Variable Importances: \n",
       "variable      relative_importance    scaled_importance      percentage\n",
       "------------  ---------------------  ---------------------  ----------------------\n",
       "hr.17         80.51166534423828      1.0                    0.07399885154799227\n",
       "hr.8          79.31263732910156      0.9851074001511444     0.07289681626261314\n",
       "hr.18         75.67184448242188      0.9398867127996532     0.06955053733239197\n",
       "temp          65.6142578125          0.8149658503765579     0.060306536978698186\n",
       "hr.4          50.543575286865234     0.6277795282305922     0.04645496411440422\n",
       "hr.3          49.74856948852539      0.6179051107167985     0.0457242685586781\n",
       "hr.2          47.49222183227539      0.5898800084337606     0.04365044317521828\n",
       "hr.1          47.15589141845703      0.5857025962242338     0.04334131946927073\n",
       "hr.5          45.70549774169922      0.5676878939999479     0.042008252193694515\n",
       "hum           39.10945129394531      0.4857613008838865     0.03594577839186632\n",
       "---           ---                    ---                    ---\n",
       "weekday.3     0.8849637508392334     0.010991745693688658   0.0008133765578405502\n",
       "mnth.4        0.4284004271030426     0.005320973367913331   0.000393745918343039\n",
       "mnth.8        0.25833165645599365    0.0032086239348231398  0.00023743448622631232\n",
       "hr.11         0.19179081916809082    0.002382149448133557   0.00017627632337756675\n",
       "weekday.2     0.006274282466620207   7.793010416308844e-05  5.7667382090839556e-06\n",
       "hr.14         0.0                    0.0                    0.0\n",
       "weekday.4     0.0                    0.0                    0.0\n",
       "weekday.5     0.0                    0.0                    0.0\n",
       "season.1      0.0                    0.0                    0.0\n",
       "weathersit.4  0.0                    0.0                    0.0\n",
       "[60 rows x 4 columns]\n",
       "\n",
       "\n",
       "[tips]\n",
       "Use `model.explain()` to inspect the model.\n",
       "--\n",
       "Use `h2o.display.toggle_user_tips()` to switch on/off this section."
      ]
     },
     "execution_count": 39,
     "metadata": {},
     "output_type": "execute_result"
    }
   ],
   "source": [
    "from h2o.estimators.glm import H2OGeneralizedLinearEstimator\n",
    "\n",
    "lin_reg_model = H2OGeneralizedLinearEstimator()\n",
    "lin_reg_model.train(x = predictors, y = response,\n",
    "                    training_frame = bike_sharing_data_train,\n",
    "                    validation_frame = bike_sharing_data_val)"
   ]
  },
  {
   "cell_type": "markdown",
   "metadata": {},
   "source": [
    "R square and rmse values on training data can be obtained by following way"
   ]
  },
  {
   "cell_type": "code",
   "execution_count": 40,
   "metadata": {},
   "outputs": [
    {
     "data": {
      "text/plain": [
       "0.5229676843749952"
      ]
     },
     "execution_count": 40,
     "metadata": {},
     "output_type": "execute_result"
    }
   ],
   "source": [
    "lin_reg_model.r2()"
   ]
  },
  {
   "cell_type": "code",
   "execution_count": 41,
   "metadata": {},
   "outputs": [
    {
     "data": {
      "text/plain": [
       "125.56279414756055"
      ]
     },
     "execution_count": 41,
     "metadata": {},
     "output_type": "execute_result"
    }
   ],
   "source": [
    "lin_reg_model.rmse()"
   ]
  },
  {
   "cell_type": "markdown",
   "metadata": {},
   "source": [
    "R square and rmse values on validation"
   ]
  },
  {
   "cell_type": "code",
   "execution_count": 45,
   "metadata": {},
   "outputs": [
    {
     "data": {
      "text/plain": [
       "0.5349515678945747"
      ]
     },
     "execution_count": 45,
     "metadata": {},
     "output_type": "execute_result"
    }
   ],
   "source": [
    "lin_reg_model.r2(valid = True)"
   ]
  },
  {
   "cell_type": "code",
   "execution_count": 46,
   "metadata": {},
   "outputs": [
    {
     "data": {
      "text/plain": [
       "124.54904326081187"
      ]
     },
     "execution_count": 46,
     "metadata": {},
     "output_type": "execute_result"
    }
   ],
   "source": [
    "lin_reg_model.rmse(valid = True)"
   ]
  },
  {
   "cell_type": "code",
   "execution_count": 42,
   "metadata": {},
   "outputs": [
    {
     "data": {
      "image/png": "[encoded data removed]",
      "text/plain": [
       "<Figure size 1008x720 with 1 Axes>"
      ]
     },
     "metadata": {
      "needs_background": "light"
     },
     "output_type": "display_data"
    },
    {
     "data": {
      "text/plain": [
       "<h2o.plot._plot_result._MObject at 0x1185f3550>"
      ]
     },
     "execution_count": 42,
     "metadata": {},
     "output_type": "execute_result"
    },
    {
     "data": {
      "text/plain": [
       "<Figure size 432x288 with 0 Axes>"
      ]
     },
     "metadata": {},
     "output_type": "display_data"
    }
   ],
   "source": [
    "lin_reg_model.varimp_plot()"
   ]
  },
  {
   "cell_type": "markdown",
   "metadata": {},
   "source": [
    "Generating predictions on a test set (if necessary)"
   ]
  },
  {
   "cell_type": "code",
   "execution_count": 43,
   "metadata": {},
   "outputs": [
    {
     "name": "stdout",
     "output_type": "stream",
     "text": [
      "glm prediction progress: |███████████████████████████████████████████████████████| (done) 100%\n"
     ]
    },
    {
     "data": {
      "text/html": [
       "<table class='dataframe'>\n",
       "<thead>\n",
       "<tr><th style=\"text-align: right;\">  predict</th></tr>\n",
       "</thead>\n",
       "<tbody>\n",
       "<tr><td style=\"text-align: right;\"> -24.157 </td></tr>\n",
       "<tr><td style=\"text-align: right;\"> 115.891 </td></tr>\n",
       "<tr><td style=\"text-align: right;\">  32.3935</td></tr>\n",
       "<tr><td style=\"text-align: right;\">  77.1359</td></tr>\n",
       "<tr><td style=\"text-align: right;\"> 174.892 </td></tr>\n",
       "<tr><td style=\"text-align: right;\">  48.1841</td></tr>\n",
       "<tr><td style=\"text-align: right;\">  24.2258</td></tr>\n",
       "<tr><td style=\"text-align: right;\">  84.8016</td></tr>\n",
       "<tr><td style=\"text-align: right;\">  67.3628</td></tr>\n",
       "<tr><td style=\"text-align: right;\">  87.5572</td></tr>\n",
       "</tbody>\n",
       "</table><pre style='font-size: smaller; margin-bottom: 1em;'>[1538 rows x 1 column]</pre>"
      ],
      "text/plain": [
       "  predict\n",
       "---------\n",
       " -24.157\n",
       " 115.891\n",
       "  32.3935\n",
       "  77.1359\n",
       " 174.892\n",
       "  48.1841\n",
       "  24.2258\n",
       "  84.8016\n",
       "  67.3628\n",
       "  87.5572\n",
       "[1538 rows x 1 column]\n"
      ]
     },
     "execution_count": 43,
     "metadata": {},
     "output_type": "execute_result"
    }
   ],
   "source": [
    "pred = lin_reg_model.predict(bike_sharing_data_test)\n",
    "\n",
    "pred"
   ]
  },
  {
   "cell_type": "code",
   "execution_count": 44,
   "metadata": {},
   "outputs": [
    {
     "data": {
      "text/html": [
       "<pre style='margin: 1em 0 1em 0;'>ModelMetricsRegressionGLM: glm\n",
       "** Reported on test data. **\n",
       "\n",
       "MSE: 14661.719859105275\n",
       "RMSE: 121.08558898194812\n",
       "MAE: 92.69985702562586\n",
       "RMSLE: NaN\n",
       "Mean Residual Deviance: 14661.719859105275\n",
       "R^2: 0.521258292271102\n",
       "Null degrees of freedom: 1537\n",
       "Residual degrees of freedom: 1482\n",
       "Null deviance: 47102448.82118666\n",
       "Residual deviance: 22549725.143303912\n",
       "AIC: 19232.68167647692</pre>"
      ],
      "text/plain": [
       "ModelMetricsRegressionGLM: glm\n",
       "** Reported on test data. **\n",
       "\n",
       "MSE: 14661.719859105275\n",
       "RMSE: 121.08558898194812\n",
       "MAE: 92.69985702562586\n",
       "RMSLE: NaN\n",
       "Mean Residual Deviance: 14661.719859105275\n",
       "R^2: 0.521258292271102\n",
       "Null degrees of freedom: 1537\n",
       "Residual degrees of freedom: 1482\n",
       "Null deviance: 47102448.82118666\n",
       "Residual deviance: 22549725.143303912\n",
       "AIC: 19232.68167647692"
      ]
     },
     "execution_count": 44,
     "metadata": {},
     "output_type": "execute_result"
    }
   ],
   "source": [
    "perf = lin_reg_model.model_performance(bike_sharing_data_test)\n",
    "\n",
    "perf"
   ]
  },
  {
   "cell_type": "markdown",
   "metadata": {},
   "source": [
    "Building  and training the GradientBoostingEstimator model. Note that we are applying Cross Validation method"
   ]
  },
  {
   "cell_type": "code",
   "execution_count": 47,
   "metadata": {
    "scrolled": false
   },
   "outputs": [
    {
     "name": "stdout",
     "output_type": "stream",
     "text": [
      "gbm Model Build progress: |██████████████████████████████████████████████████████| (done) 100%\n"
     ]
    },
    {
     "data": {
      "text/html": [
       "<pre style='margin: 1em 0 1em 0;'>Model Details\n",
       "=============\n",
       "H2OGradientBoostingEstimator : Gradient Boosting Machine\n",
       "Model Key: GBM_model_python_1677318363097_3\n",
       "</pre>\n",
       "<div style='margin: 1em 0 1em 0;'>\n",
       "<style>\n",
       "\n",
       "#h2o-table-9.h2o-container {\n",
       "  overflow-x: auto;\n",
       "}\n",
       "#h2o-table-9 .h2o-table {\n",
       "  /* width: 100%; */\n",
       "  margin-top: 1em;\n",
       "  margin-bottom: 1em;\n",
       "}\n",
       "#h2o-table-9 .h2o-table caption {\n",
       "  white-space: nowrap;\n",
       "  caption-side: top;\n",
       "  text-align: left;\n",
       "  /* margin-left: 1em; */\n",
       "  margin: 0;\n",
       "  font-size: larger;\n",
       "}\n",
       "#h2o-table-9 .h2o-table thead {\n",
       "  white-space: nowrap; \n",
       "  position: sticky;\n",
       "  top: 0;\n",
       "  box-shadow: 0 -1px inset;\n",
       "}\n",
       "#h2o-table-9 .h2o-table tbody {\n",
       "  overflow: auto;\n",
       "}\n",
       "#h2o-table-9 .h2o-table th,\n",
       "#h2o-table-9 .h2o-table td {\n",
       "  text-align: right;\n",
       "  /* border: 1px solid; */\n",
       "}\n",
       "#h2o-table-9 .h2o-table tr:nth-child(even) {\n",
       "  /* background: #F5F5F5 */\n",
       "}\n",
       "\n",
       "</style>      \n",
       "<div id=\"h2o-table-9\" class=\"h2o-container\">\n",
       "  <table class=\"h2o-table\">\n",
       "    <caption>Model Summary: </caption>\n",
       "    <thead><tr><th></th>\n",
       "<th>number_of_trees</th>\n",
       "<th>number_of_internal_trees</th>\n",
       "<th>model_size_in_bytes</th>\n",
       "<th>min_depth</th>\n",
       "<th>max_depth</th>\n",
       "<th>mean_depth</th>\n",
       "<th>min_leaves</th>\n",
       "<th>max_leaves</th>\n",
       "<th>mean_leaves</th></tr></thead>\n",
       "    <tbody><tr><td></td>\n",
       "<td>50.0</td>\n",
       "<td>50.0</td>\n",
       "<td>22149.0</td>\n",
       "<td>5.0</td>\n",
       "<td>5.0</td>\n",
       "<td>5.0</td>\n",
       "<td>20.0</td>\n",
       "<td>32.0</td>\n",
       "<td>30.58</td></tr></tbody>\n",
       "  </table>\n",
       "</div>\n",
       "</div>\n",
       "<div style='margin: 1em 0 1em 0;'><pre style='margin: 1em 0 1em 0;'>ModelMetricsRegression: gbm\n",
       "** Reported on train data. **\n",
       "\n",
       "MSE: 2180.964404235176\n",
       "RMSE: 46.70079661242596\n",
       "MAE: 30.390370561780156\n",
       "RMSLE: NaN\n",
       "Mean Residual Deviance: 2180.964404235176</pre></div>\n",
       "<div style='margin: 1em 0 1em 0;'><pre style='margin: 1em 0 1em 0;'>ModelMetricsRegression: gbm\n",
       "** Reported on cross-validation data. **\n",
       "\n",
       "MSE: 2634.2005136024445\n",
       "RMSE: 51.32446311070818\n",
       "MAE: 32.847203547921616\n",
       "RMSLE: NaN\n",
       "Mean Residual Deviance: 2634.2005136024445</pre></div>\n",
       "<div style='margin: 1em 0 1em 0;'>\n",
       "<style>\n",
       "\n",
       "#h2o-table-10.h2o-container {\n",
       "  overflow-x: auto;\n",
       "}\n",
       "#h2o-table-10 .h2o-table {\n",
       "  /* width: 100%; */\n",
       "  margin-top: 1em;\n",
       "  margin-bottom: 1em;\n",
       "}\n",
       "#h2o-table-10 .h2o-table caption {\n",
       "  white-space: nowrap;\n",
       "  caption-side: top;\n",
       "  text-align: left;\n",
       "  /* margin-left: 1em; */\n",
       "  margin: 0;\n",
       "  font-size: larger;\n",
       "}\n",
       "#h2o-table-10 .h2o-table thead {\n",
       "  white-space: nowrap; \n",
       "  position: sticky;\n",
       "  top: 0;\n",
       "  box-shadow: 0 -1px inset;\n",
       "}\n",
       "#h2o-table-10 .h2o-table tbody {\n",
       "  overflow: auto;\n",
       "}\n",
       "#h2o-table-10 .h2o-table th,\n",
       "#h2o-table-10 .h2o-table td {\n",
       "  text-align: right;\n",
       "  /* border: 1px solid; */\n",
       "}\n",
       "#h2o-table-10 .h2o-table tr:nth-child(even) {\n",
       "  /* background: #F5F5F5 */\n",
       "}\n",
       "\n",
       "</style>      \n",
       "<div id=\"h2o-table-10\" class=\"h2o-container\">\n",
       "  <table class=\"h2o-table\">\n",
       "    <caption>Cross-Validation Metrics Summary: </caption>\n",
       "    <thead><tr><th></th>\n",
       "<th>mean</th>\n",
       "<th>sd</th>\n",
       "<th>cv_1_valid</th>\n",
       "<th>cv_2_valid</th>\n",
       "<th>cv_3_valid</th>\n",
       "<th>cv_4_valid</th>\n",
       "<th>cv_5_valid</th></tr></thead>\n",
       "    <tbody><tr><td>mae</td>\n",
       "<td>32.85625</td>\n",
       "<td>0.4352012</td>\n",
       "<td>32.5158</td>\n",
       "<td>33.1295</td>\n",
       "<td>32.39031</td>\n",
       "<td>32.80048</td>\n",
       "<td>33.44516</td></tr>\n",
       "<tr><td>mean_residual_deviance</td>\n",
       "<td>2636.6707</td>\n",
       "<td>115.37361</td>\n",
       "<td>2547.636</td>\n",
       "<td>2690.3455</td>\n",
       "<td>2508.9287</td>\n",
       "<td>2638.168</td>\n",
       "<td>2798.275</td></tr>\n",
       "<tr><td>mse</td>\n",
       "<td>2636.6707</td>\n",
       "<td>115.37361</td>\n",
       "<td>2547.636</td>\n",
       "<td>2690.3455</td>\n",
       "<td>2508.9287</td>\n",
       "<td>2638.168</td>\n",
       "<td>2798.275</td></tr>\n",
       "<tr><td>r2</td>\n",
       "<td>0.9200751</td>\n",
       "<td>0.0048802</td>\n",
       "<td>0.9216344</td>\n",
       "<td>0.9218500</td>\n",
       "<td>0.9251</td>\n",
       "<td>0.9197359</td>\n",
       "<td>0.9120551</td></tr>\n",
       "<tr><td>residual_deviance</td>\n",
       "<td>2636.6707</td>\n",
       "<td>115.37361</td>\n",
       "<td>2547.636</td>\n",
       "<td>2690.3455</td>\n",
       "<td>2508.9287</td>\n",
       "<td>2638.168</td>\n",
       "<td>2798.275</td></tr>\n",
       "<tr><td>rmse</td>\n",
       "<td>51.338737</td>\n",
       "<td>1.1206847</td>\n",
       "<td>50.474113</td>\n",
       "<td>51.868538</td>\n",
       "<td>50.089207</td>\n",
       "<td>51.3631</td>\n",
       "<td>52.898724</td></tr>\n",
       "<tr><td>rmsle</td>\n",
       "<td>nan</td>\n",
       "<td>0.0</td>\n",
       "<td>nan</td>\n",
       "<td>nan</td>\n",
       "<td>nan</td>\n",
       "<td>nan</td>\n",
       "<td>nan</td></tr></tbody>\n",
       "  </table>\n",
       "</div>\n",
       "</div>\n",
       "<div style='margin: 1em 0 1em 0;'>\n",
       "<style>\n",
       "\n",
       "#h2o-table-11.h2o-container {\n",
       "  overflow-x: auto;\n",
       "}\n",
       "#h2o-table-11 .h2o-table {\n",
       "  /* width: 100%; */\n",
       "  margin-top: 1em;\n",
       "  margin-bottom: 1em;\n",
       "}\n",
       "#h2o-table-11 .h2o-table caption {\n",
       "  white-space: nowrap;\n",
       "  caption-side: top;\n",
       "  text-align: left;\n",
       "  /* margin-left: 1em; */\n",
       "  margin: 0;\n",
       "  font-size: larger;\n",
       "}\n",
       "#h2o-table-11 .h2o-table thead {\n",
       "  white-space: nowrap; \n",
       "  position: sticky;\n",
       "  top: 0;\n",
       "  box-shadow: 0 -1px inset;\n",
       "}\n",
       "#h2o-table-11 .h2o-table tbody {\n",
       "  overflow: auto;\n",
       "}\n",
       "#h2o-table-11 .h2o-table th,\n",
       "#h2o-table-11 .h2o-table td {\n",
       "  text-align: right;\n",
       "  /* border: 1px solid; */\n",
       "}\n",
       "#h2o-table-11 .h2o-table tr:nth-child(even) {\n",
       "  /* background: #F5F5F5 */\n",
       "}\n",
       "\n",
       "</style>      \n",
       "<div id=\"h2o-table-11\" class=\"h2o-container\">\n",
       "  <table class=\"h2o-table\">\n",
       "    <caption>Scoring History: </caption>\n",
       "    <thead><tr><th></th>\n",
       "<th>timestamp</th>\n",
       "<th>duration</th>\n",
       "<th>number_of_trees</th>\n",
       "<th>training_rmse</th>\n",
       "<th>training_mae</th>\n",
       "<th>training_deviance</th></tr></thead>\n",
       "    <tbody><tr><td></td>\n",
       "<td>2023-02-25 15:32:02</td>\n",
       "<td>11.753 sec</td>\n",
       "<td>0.0</td>\n",
       "<td>181.7971503</td>\n",
       "<td>142.0857361</td>\n",
       "<td>33050.2038494</td></tr>\n",
       "<tr><td></td>\n",
       "<td>2023-02-25 15:32:02</td>\n",
       "<td>11.846 sec</td>\n",
       "<td>1.0</td>\n",
       "<td>167.9913299</td>\n",
       "<td>131.1514130</td>\n",
       "<td>28221.0869260</td></tr>\n",
       "<tr><td></td>\n",
       "<td>2023-02-25 15:32:02</td>\n",
       "<td>11.936 sec</td>\n",
       "<td>2.0</td>\n",
       "<td>155.9599837</td>\n",
       "<td>121.4877660</td>\n",
       "<td>24323.5165251</td></tr>\n",
       "<tr><td></td>\n",
       "<td>2023-02-25 15:32:02</td>\n",
       "<td>12.028 sec</td>\n",
       "<td>3.0</td>\n",
       "<td>145.5364676</td>\n",
       "<td>113.1185208</td>\n",
       "<td>21180.8633873</td></tr>\n",
       "<tr><td></td>\n",
       "<td>2023-02-25 15:32:03</td>\n",
       "<td>12.110 sec</td>\n",
       "<td>4.0</td>\n",
       "<td>135.9037198</td>\n",
       "<td>105.4768840</td>\n",
       "<td>18469.8210542</td></tr>\n",
       "<tr><td></td>\n",
       "<td>2023-02-25 15:32:03</td>\n",
       "<td>12.198 sec</td>\n",
       "<td>5.0</td>\n",
       "<td>127.6596851</td>\n",
       "<td>98.8668944</td>\n",
       "<td>16296.9952110</td></tr>\n",
       "<tr><td></td>\n",
       "<td>2023-02-25 15:32:03</td>\n",
       "<td>12.245 sec</td>\n",
       "<td>6.0</td>\n",
       "<td>120.4134236</td>\n",
       "<td>92.9833295</td>\n",
       "<td>14499.3925874</td></tr>\n",
       "<tr><td></td>\n",
       "<td>2023-02-25 15:32:03</td>\n",
       "<td>12.276 sec</td>\n",
       "<td>7.0</td>\n",
       "<td>113.5796950</td>\n",
       "<td>87.3308274</td>\n",
       "<td>12900.3471181</td></tr>\n",
       "<tr><td></td>\n",
       "<td>2023-02-25 15:32:03</td>\n",
       "<td>12.311 sec</td>\n",
       "<td>8.0</td>\n",
       "<td>107.9577686</td>\n",
       "<td>82.4421125</td>\n",
       "<td>11654.8798020</td></tr>\n",
       "<tr><td></td>\n",
       "<td>2023-02-25 15:32:03</td>\n",
       "<td>12.343 sec</td>\n",
       "<td>9.0</td>\n",
       "<td>102.9221413</td>\n",
       "<td>78.3682669</td>\n",
       "<td>10592.9671642</td></tr>\n",
       "<tr><td>---</td>\n",
       "<td>---</td>\n",
       "<td>---</td>\n",
       "<td>---</td>\n",
       "<td>---</td>\n",
       "<td>---</td>\n",
       "<td>---</td></tr>\n",
       "<tr><td></td>\n",
       "<td>2023-02-25 15:32:04</td>\n",
       "<td>13.587 sec</td>\n",
       "<td>41.0</td>\n",
       "<td>49.2604726</td>\n",
       "<td>32.2135994</td>\n",
       "<td>2426.5941562</td></tr>\n",
       "<tr><td></td>\n",
       "<td>2023-02-25 15:32:04</td>\n",
       "<td>13.623 sec</td>\n",
       "<td>42.0</td>\n",
       "<td>48.6453948</td>\n",
       "<td>31.7646015</td>\n",
       "<td>2366.3744361</td></tr>\n",
       "<tr><td></td>\n",
       "<td>2023-02-25 15:32:04</td>\n",
       "<td>13.664 sec</td>\n",
       "<td>43.0</td>\n",
       "<td>48.4041570</td>\n",
       "<td>31.5939600</td>\n",
       "<td>2342.9624140</td></tr>\n",
       "<tr><td></td>\n",
       "<td>2023-02-25 15:32:04</td>\n",
       "<td>13.706 sec</td>\n",
       "<td>44.0</td>\n",
       "<td>48.1434050</td>\n",
       "<td>31.4166319</td>\n",
       "<td>2317.7874477</td></tr>\n",
       "<tr><td></td>\n",
       "<td>2023-02-25 15:32:04</td>\n",
       "<td>13.743 sec</td>\n",
       "<td>45.0</td>\n",
       "<td>47.9478549</td>\n",
       "<td>31.2858630</td>\n",
       "<td>2298.9967942</td></tr>\n",
       "<tr><td></td>\n",
       "<td>2023-02-25 15:32:04</td>\n",
       "<td>13.776 sec</td>\n",
       "<td>46.0</td>\n",
       "<td>47.6007126</td>\n",
       "<td>31.0278253</td>\n",
       "<td>2265.8278353</td></tr>\n",
       "<tr><td></td>\n",
       "<td>2023-02-25 15:32:04</td>\n",
       "<td>13.808 sec</td>\n",
       "<td>47.0</td>\n",
       "<td>47.3152833</td>\n",
       "<td>30.8101631</td>\n",
       "<td>2238.7360318</td></tr>\n",
       "<tr><td></td>\n",
       "<td>2023-02-25 15:32:04</td>\n",
       "<td>13.844 sec</td>\n",
       "<td>48.0</td>\n",
       "<td>47.0651667</td>\n",
       "<td>30.6197908</td>\n",
       "<td>2215.1299151</td></tr>\n",
       "<tr><td></td>\n",
       "<td>2023-02-25 15:32:04</td>\n",
       "<td>13.879 sec</td>\n",
       "<td>49.0</td>\n",
       "<td>46.8447712</td>\n",
       "<td>30.4795594</td>\n",
       "<td>2194.4325891</td></tr>\n",
       "<tr><td></td>\n",
       "<td>2023-02-25 15:32:04</td>\n",
       "<td>13.913 sec</td>\n",
       "<td>50.0</td>\n",
       "<td>46.7007966</td>\n",
       "<td>30.3903706</td>\n",
       "<td>2180.9644042</td></tr></tbody>\n",
       "  </table>\n",
       "</div>\n",
       "<pre style='font-size: smaller; margin-bottom: 1em;'>[51 rows x 7 columns]</pre></div>\n",
       "<div style='margin: 1em 0 1em 0;'>\n",
       "<style>\n",
       "\n",
       "#h2o-table-12.h2o-container {\n",
       "  overflow-x: auto;\n",
       "}\n",
       "#h2o-table-12 .h2o-table {\n",
       "  /* width: 100%; */\n",
       "  margin-top: 1em;\n",
       "  margin-bottom: 1em;\n",
       "}\n",
       "#h2o-table-12 .h2o-table caption {\n",
       "  white-space: nowrap;\n",
       "  caption-side: top;\n",
       "  text-align: left;\n",
       "  /* margin-left: 1em; */\n",
       "  margin: 0;\n",
       "  font-size: larger;\n",
       "}\n",
       "#h2o-table-12 .h2o-table thead {\n",
       "  white-space: nowrap; \n",
       "  position: sticky;\n",
       "  top: 0;\n",
       "  box-shadow: 0 -1px inset;\n",
       "}\n",
       "#h2o-table-12 .h2o-table tbody {\n",
       "  overflow: auto;\n",
       "}\n",
       "#h2o-table-12 .h2o-table th,\n",
       "#h2o-table-12 .h2o-table td {\n",
       "  text-align: right;\n",
       "  /* border: 1px solid; */\n",
       "}\n",
       "#h2o-table-12 .h2o-table tr:nth-child(even) {\n",
       "  /* background: #F5F5F5 */\n",
       "}\n",
       "\n",
       "</style>      \n",
       "<div id=\"h2o-table-12\" class=\"h2o-container\">\n",
       "  <table class=\"h2o-table\">\n",
       "    <caption>Variable Importances: </caption>\n",
       "    <thead><tr><th>variable</th>\n",
       "<th>relative_importance</th>\n",
       "<th>scaled_importance</th>\n",
       "<th>percentage</th></tr></thead>\n",
       "    <tbody><tr><td>hr</td>\n",
       "<td>1226024320.0000000</td>\n",
       "<td>1.0</td>\n",
       "<td>0.6174304</td></tr>\n",
       "<tr><td>temp</td>\n",
       "<td>213052224.0000000</td>\n",
       "<td>0.1737749</td>\n",
       "<td>0.1072939</td></tr>\n",
       "<tr><td>yr</td>\n",
       "<td>200006064.0000000</td>\n",
       "<td>0.1631338</td>\n",
       "<td>0.1007238</td></tr>\n",
       "<tr><td>workingday</td>\n",
       "<td>131598424.0000000</td>\n",
       "<td>0.1073375</td>\n",
       "<td>0.0662735</td></tr>\n",
       "<tr><td>season</td>\n",
       "<td>53889592.0000000</td>\n",
       "<td>0.0439547</td>\n",
       "<td>0.0271390</td></tr>\n",
       "<tr><td>mnth</td>\n",
       "<td>47376292.0000000</td>\n",
       "<td>0.0386422</td>\n",
       "<td>0.0238589</td></tr>\n",
       "<tr><td>weekday</td>\n",
       "<td>40156412.0000000</td>\n",
       "<td>0.0327534</td>\n",
       "<td>0.0202229</td></tr>\n",
       "<tr><td>weathersit</td>\n",
       "<td>39228952.0000000</td>\n",
       "<td>0.0319969</td>\n",
       "<td>0.0197558</td></tr>\n",
       "<tr><td>hum</td>\n",
       "<td>30237202.0000000</td>\n",
       "<td>0.0246628</td>\n",
       "<td>0.0152276</td></tr>\n",
       "<tr><td>windspeed</td>\n",
       "<td>2290282.2500000</td>\n",
       "<td>0.0018681</td>\n",
       "<td>0.0011534</td></tr>\n",
       "<tr><td>holiday</td>\n",
       "<td>1828474.0</td>\n",
       "<td>0.0014914</td>\n",
       "<td>0.0009208</td></tr></tbody>\n",
       "  </table>\n",
       "</div>\n",
       "</div><pre style=\"font-size: smaller; margin: 1em 0 0 0;\">\n",
       "\n",
       "[tips]\n",
       "Use `model.explain()` to inspect the model.\n",
       "--\n",
       "Use `h2o.display.toggle_user_tips()` to switch on/off this section.</pre>"
      ],
      "text/plain": [
       "Model Details\n",
       "=============\n",
       "H2OGradientBoostingEstimator : Gradient Boosting Machine\n",
       "Model Key: GBM_model_python_1677318363097_3\n",
       "\n",
       "\n",
       "Model Summary: \n",
       "    number_of_trees    number_of_internal_trees    model_size_in_bytes    min_depth    max_depth    mean_depth    min_leaves    max_leaves    mean_leaves\n",
       "--  -----------------  --------------------------  ---------------------  -----------  -----------  ------------  ------------  ------------  -------------\n",
       "    50                 50                          22149                  5            5            5             20            32            30.58\n",
       "\n",
       "ModelMetricsRegression: gbm\n",
       "** Reported on train data. **\n",
       "\n",
       "MSE: 2180.964404235176\n",
       "RMSE: 46.70079661242596\n",
       "MAE: 30.390370561780156\n",
       "RMSLE: NaN\n",
       "Mean Residual Deviance: 2180.964404235176\n",
       "\n",
       "ModelMetricsRegression: gbm\n",
       "** Reported on cross-validation data. **\n",
       "\n",
       "MSE: 2634.2005136024445\n",
       "RMSE: 51.32446311070818\n",
       "MAE: 32.847203547921616\n",
       "RMSLE: NaN\n",
       "Mean Residual Deviance: 2634.2005136024445\n",
       "\n",
       "Cross-Validation Metrics Summary: \n",
       "                        mean      sd          cv_1_valid    cv_2_valid    cv_3_valid    cv_4_valid    cv_5_valid\n",
       "----------------------  --------  ----------  ------------  ------------  ------------  ------------  ------------\n",
       "mae                     32.8563   0.435201    32.5158       33.1295       32.3903       32.8005       33.4452\n",
       "mean_residual_deviance  2636.67   115.374     2547.64       2690.35       2508.93       2638.17       2798.28\n",
       "mse                     2636.67   115.374     2547.64       2690.35       2508.93       2638.17       2798.28\n",
       "r2                      0.920075  0.00488022  0.921634      0.92185       0.9251        0.919736      0.912055\n",
       "residual_deviance       2636.67   115.374     2547.64       2690.35       2508.93       2638.17       2798.28\n",
       "rmse                    51.3387   1.12068     50.4741       51.8685       50.0892       51.3631       52.8987\n",
       "rmsle                   nan       0           nan           nan           nan           nan           nan\n",
       "\n",
       "Scoring History: \n",
       "     timestamp            duration    number_of_trees    training_rmse       training_mae        training_deviance\n",
       "---  -------------------  ----------  -----------------  ------------------  ------------------  -------------------\n",
       "     2023-02-25 15:32:02  11.753 sec  0.0                181.7971502784585   142.08573612839285  33050.20384936842\n",
       "     2023-02-25 15:32:02  11.846 sec  1.0                167.99132991320775  131.1514130075636   28221.086926008207\n",
       "     2023-02-25 15:32:02  11.936 sec  2.0                155.95998373008132  121.48776595812151  24323.51652508723\n",
       "     2023-02-25 15:32:02  12.028 sec  3.0                145.53646755119837  113.1185207613516   21180.863387281017\n",
       "     2023-02-25 15:32:03  12.110 sec  4.0                135.90371979518508  105.4768840494532   18469.821054168184\n",
       "     2023-02-25 15:32:03  12.198 sec  5.0                127.65968514389382  98.86689443062339   16296.995211038107\n",
       "     2023-02-25 15:32:03  12.245 sec  6.0                120.41342361784095  92.98332951139494   14499.392587369615\n",
       "     2023-02-25 15:32:03  12.276 sec  7.0                113.5796950077752   87.33082741806187   12900.347118059235\n",
       "     2023-02-25 15:32:03  12.311 sec  8.0                107.95776860430158  82.44211247587259   11654.879802019925\n",
       "     2023-02-25 15:32:03  12.343 sec  9.0                102.92214127269993  78.368266853953     10592.967164157602\n",
       "---  ---                  ---         ---                ---                 ---                 ---\n",
       "     2023-02-25 15:32:04  13.587 sec  41.0               49.26047255367483   32.21359939636875   2426.594156211351\n",
       "     2023-02-25 15:32:04  13.623 sec  42.0               48.64539480865312   31.764601463677838  2366.3744360897363\n",
       "     2023-02-25 15:32:04  13.664 sec  43.0               48.404156991197745  31.59396001409707   2342.9624140285173\n",
       "     2023-02-25 15:32:04  13.706 sec  44.0               48.14340502852177   31.41663185786989   2317.787447740295\n",
       "     2023-02-25 15:32:04  13.743 sec  45.0               47.94785494921857   31.285863038226218  2298.9967942313037\n",
       "     2023-02-25 15:32:04  13.776 sec  46.0               47.60071255045501   31.027825301105555  2265.827835311045\n",
       "     2023-02-25 15:32:04  13.808 sec  47.0               47.31528327958044   30.81016308089468   2238.7360318269443\n",
       "     2023-02-25 15:32:04  13.844 sec  48.0               47.065166685660955  30.619790789793925  2215.12991514905\n",
       "     2023-02-25 15:32:04  13.879 sec  49.0               46.844771203501026  30.47955937217113   2194.432589108359\n",
       "     2023-02-25 15:32:04  13.913 sec  50.0               46.70079661242596   30.390370561780156  2180.964404235176\n",
       "[51 rows x 7 columns]\n",
       "\n",
       "\n",
       "Variable Importances: \n",
       "variable    relative_importance    scaled_importance    percentage\n",
       "----------  ---------------------  -------------------  ------------\n",
       "hr          1.22602e+09            1                    0.61743\n",
       "temp        2.13052e+08            0.173775             0.107294\n",
       "yr          2.00006e+08            0.163134             0.100724\n",
       "workingday  1.31598e+08            0.107338             0.0662735\n",
       "season      5.38896e+07            0.0439547            0.027139\n",
       "mnth        4.73763e+07            0.0386422            0.0238589\n",
       "weekday     4.01564e+07            0.0327534            0.0202229\n",
       "weathersit  3.9229e+07             0.0319969            0.0197558\n",
       "hum         3.02372e+07            0.0246628            0.0152276\n",
       "windspeed   2.29028e+06            0.00186806           0.00115339\n",
       "holiday     1.82847e+06            0.00149138           0.000920826\n",
       "\n",
       "[tips]\n",
       "Use `model.explain()` to inspect the model.\n",
       "--\n",
       "Use `h2o.display.toggle_user_tips()` to switch on/off this section."
      ]
     },
     "execution_count": 47,
     "metadata": {},
     "output_type": "execute_result"
    }
   ],
   "source": [
    "from h2o.estimators import H2OGradientBoostingEstimator\n",
    "\n",
    "gbm_model = H2OGradientBoostingEstimator(nfolds = 5,\n",
    "                                         seed = 1111,\n",
    "                                         keep_cross_validation_predictions = True)\n",
    "\n",
    "gbm_model.train(x = predictors, y = response, training_frame = bike_sharing_data_train)"
   ]
  },
  {
   "cell_type": "markdown",
   "metadata": {},
   "source": [
    "If we compare Gradient boosting model and Linear regression, the performance of GBM model is far better."
   ]
  },
  {
   "cell_type": "code",
   "execution_count": 48,
   "metadata": {},
   "outputs": [
    {
     "data": {
      "text/html": [
       "<pre style='margin: 1em 0 1em 0;'>ModelMetricsRegression: gbm\n",
       "** Reported on train data. **\n",
       "\n",
       "MSE: 2180.964404235176\n",
       "RMSE: 46.70079661242596\n",
       "MAE: 30.390370561780156\n",
       "RMSLE: NaN\n",
       "Mean Residual Deviance: 2180.964404235176</pre>"
      ],
      "text/plain": [
       "ModelMetricsRegression: gbm\n",
       "** Reported on train data. **\n",
       "\n",
       "MSE: 2180.964404235176\n",
       "RMSE: 46.70079661242596\n",
       "MAE: 30.390370561780156\n",
       "RMSLE: NaN\n",
       "Mean Residual Deviance: 2180.964404235176"
      ]
     },
     "execution_count": 48,
     "metadata": {},
     "output_type": "execute_result"
    }
   ],
   "source": [
    "perf = gbm_model.model_performance()\n",
    "\n",
    "perf"
   ]
  },
  {
   "cell_type": "markdown",
   "metadata": {},
   "source": [
    "R square and rmse values for training data can be obtained "
   ]
  },
  {
   "cell_type": "code",
   "execution_count": 52,
   "metadata": {},
   "outputs": [
    {
     "data": {
      "text/plain": [
       "0.93401056120031"
      ]
     },
     "execution_count": 52,
     "metadata": {},
     "output_type": "execute_result"
    }
   ],
   "source": [
    "gbm_model.r2()"
   ]
  },
  {
   "cell_type": "code",
   "execution_count": 53,
   "metadata": {},
   "outputs": [
    {
     "data": {
      "text/plain": [
       "46.70079661242596"
      ]
     },
     "execution_count": 53,
     "metadata": {},
     "output_type": "execute_result"
    }
   ],
   "source": [
    "gbm_model.rmse()"
   ]
  },
  {
   "cell_type": "markdown",
   "metadata": {},
   "source": [
    "Generating predictions on a test set (if necessary)"
   ]
  },
  {
   "cell_type": "code",
   "execution_count": 54,
   "metadata": {},
   "outputs": [
    {
     "name": "stdout",
     "output_type": "stream",
     "text": [
      "gbm prediction progress: |███████████████████████████████████████████████████████| (done) 100%\n"
     ]
    },
    {
     "data": {
      "text/html": [
       "<table class='dataframe'>\n",
       "<thead>\n",
       "<tr><th style=\"text-align: right;\">  predict</th></tr>\n",
       "</thead>\n",
       "<tbody>\n",
       "<tr><td style=\"text-align: right;\"> 27.2309 </td></tr>\n",
       "<tr><td style=\"text-align: right;\">182.397  </td></tr>\n",
       "<tr><td style=\"text-align: right;\"> 46.8281 </td></tr>\n",
       "<tr><td style=\"text-align: right;\">103.139  </td></tr>\n",
       "<tr><td style=\"text-align: right;\"> 98.6908 </td></tr>\n",
       "<tr><td style=\"text-align: right;\">  6.79168</td></tr>\n",
       "<tr><td style=\"text-align: right;\"> 32.5141 </td></tr>\n",
       "<tr><td style=\"text-align: right;\">109.753  </td></tr>\n",
       "<tr><td style=\"text-align: right;\"> 49.0245 </td></tr>\n",
       "<tr><td style=\"text-align: right;\"> 60.4131 </td></tr>\n",
       "</tbody>\n",
       "</table><pre style='font-size: smaller; margin-bottom: 1em;'>[1538 rows x 1 column]</pre>"
      ],
      "text/plain": [
       "  predict\n",
       "---------\n",
       " 27.2309\n",
       "182.397\n",
       " 46.8281\n",
       "103.139\n",
       " 98.6908\n",
       "  6.79168\n",
       " 32.5141\n",
       "109.753\n",
       " 49.0245\n",
       " 60.4131\n",
       "[1538 rows x 1 column]\n"
      ]
     },
     "execution_count": 54,
     "metadata": {},
     "output_type": "execute_result"
    }
   ],
   "source": [
    "pred = gbm_model.predict(bike_sharing_data_test)\n",
    "\n",
    "pred"
   ]
  },
  {
   "cell_type": "markdown",
   "metadata": {},
   "source": [
    "Metrics on cross validation data can be obtained this way"
   ]
  },
  {
   "cell_type": "code",
   "execution_count": 55,
   "metadata": {},
   "outputs": [
    {
     "data": {
      "text/plain": [
       "0.9202969964842507"
      ]
     },
     "execution_count": 55,
     "metadata": {},
     "output_type": "execute_result"
    }
   ],
   "source": [
    "gbm_model.r2(xval = True)"
   ]
  },
  {
   "cell_type": "code",
   "execution_count": 56,
   "metadata": {},
   "outputs": [
    {
     "data": {
      "text/plain": [
       "51.32446311070818"
      ]
     },
     "execution_count": 56,
     "metadata": {},
     "output_type": "execute_result"
    }
   ],
   "source": [
    "gbm_model.rmse(xval = True)"
   ]
  },
  {
   "cell_type": "code",
   "execution_count": 57,
   "metadata": {},
   "outputs": [
    {
     "data": {
      "image/png": "[encoded data removed]",
      "text/plain": [
       "<Figure size 1008x720 with 1 Axes>"
      ]
     },
     "metadata": {
      "needs_background": "light"
     },
     "output_type": "display_data"
    },
    {
     "data": {
      "text/plain": [
       "<h2o.plot._plot_result._MObject at 0x122af6880>"
      ]
     },
     "execution_count": 57,
     "metadata": {},
     "output_type": "execute_result"
    },
    {
     "data": {
      "text/plain": [
       "<Figure size 432x288 with 0 Axes>"
      ]
     },
     "metadata": {},
     "output_type": "display_data"
    }
   ],
   "source": [
    "gbm_model.varimp_plot()"
   ]
  },
  {
   "cell_type": "code",
   "execution_count": null,
   "metadata": {},
   "outputs": [],
   "source": []
  },
  {
   "cell_type": "code",
   "execution_count": null,
   "metadata": {},
   "outputs": [],
   "source": []
  },
  {
   "cell_type": "code",
   "execution_count": null,
   "metadata": {},
   "outputs": [],
   "source": []
  },
  {
   "cell_type": "code",
   "execution_count": null,
   "metadata": {},
   "outputs": [],
   "source": []
  },
  {
   "cell_type": "code",
   "execution_count": null,
   "metadata": {},
   "outputs": [],
   "source": []
  },
  {
   "cell_type": "code",
   "execution_count": null,
   "metadata": {},
   "outputs": [],
   "source": []
  },
  {
   "cell_type": "code",
   "execution_count": null,
   "metadata": {},
   "outputs": [],
   "source": []
  },
  {
   "cell_type": "code",
   "execution_count": null,
   "metadata": {},
   "outputs": [],
   "source": []
  },
  {
   "cell_type": "code",
   "execution_count": null,
   "metadata": {},
   "outputs": [],
   "source": []
  },
  {
   "cell_type": "code",
   "execution_count": null,
   "metadata": {},
   "outputs": [],
   "source": []
  },
  {
   "cell_type": "code",
   "execution_count": null,
   "metadata": {},
   "outputs": [],
   "source": []
  },
  {
   "cell_type": "code",
   "execution_count": null,
   "metadata": {},
   "outputs": [],
   "source": []
  },
  {
   "cell_type": "code",
   "execution_count": null,
   "metadata": {},
   "outputs": [],
   "source": []
  },
  {
   "cell_type": "code",
   "execution_count": null,
   "metadata": {},
   "outputs": [],
   "source": []
  },
  {
   "cell_type": "code",
   "execution_count": null,
   "metadata": {},
   "outputs": [],
   "source": []
  },
  {
   "cell_type": "code",
   "execution_count": null,
   "metadata": {},
   "outputs": [],
   "source": []
  },
  {
   "cell_type": "code",
   "execution_count": null,
   "metadata": {},
   "outputs": [],
   "source": []
  }
 ],
 "metadata": {
  "kernelspec": {
   "display_name": "Python 3",
   "language": "python",
   "name": "python3"
  },
  "language_info": {
   "codemirror_mode": {
    "name": "ipython",
    "version": 3
   },
   "file_extension": ".py",
   "mimetype": "text/x-python",
   "name": "python",
   "nbconvert_exporter": "python",
   "pygments_lexer": "ipython3",
   "version": "3.8.5"
  }
 },
 "nbformat": 4,
 "nbformat_minor": 5
}
